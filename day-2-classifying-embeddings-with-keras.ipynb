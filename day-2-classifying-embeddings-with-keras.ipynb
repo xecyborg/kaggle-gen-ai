{
 "cells": [
  {
   "cell_type": "markdown",
   "id": "617e6480",
   "metadata": {
    "id": "v0WeWbFNkUSz",
    "papermill": {
     "duration": 0.012923,
     "end_time": "2024-11-12T03:44:11.703034",
     "exception": false,
     "start_time": "2024-11-12T03:44:11.690111",
     "status": "completed"
    },
    "tags": []
   },
   "source": [
    "##### Copyright 2024 Google LLC."
   ]
  },
  {
   "cell_type": "code",
   "execution_count": 1,
   "id": "fa2ab5f0",
   "metadata": {
    "cellView": "form",
    "execution": {
     "iopub.execute_input": "2024-11-12T03:44:11.729441Z",
     "iopub.status.busy": "2024-11-12T03:44:11.728859Z",
     "iopub.status.idle": "2024-11-12T03:44:11.736217Z",
     "shell.execute_reply": "2024-11-12T03:44:11.734848Z"
    },
    "id": "Aqwsgz9lkUst",
    "papermill": {
     "duration": 0.024053,
     "end_time": "2024-11-12T03:44:11.739104",
     "exception": false,
     "start_time": "2024-11-12T03:44:11.715051",
     "status": "completed"
    },
    "tags": []
   },
   "outputs": [],
   "source": [
    "# @title Licensed under the Apache License, Version 2.0 (the \"License\");\n",
    "# you may not use this file except in compliance with the License.\n",
    "# You may obtain a copy of the License at\n",
    "#\n",
    "# https://www.apache.org/licenses/LICENSE-2.0\n",
    "#\n",
    "# Unless required by applicable law or agreed to in writing, software\n",
    "# distributed under the License is distributed on an \"AS IS\" BASIS,\n",
    "# WITHOUT WARRANTIES OR CONDITIONS OF ANY KIND, either express or implied.\n",
    "# See the License for the specific language governing permissions and\n",
    "# limitations under the License."
   ]
  },
  {
   "cell_type": "markdown",
   "id": "69ad05f5",
   "metadata": {
    "id": "bhT1u-Pof10V",
    "papermill": {
     "duration": 0.012249,
     "end_time": "2024-11-12T03:44:11.763388",
     "exception": false,
     "start_time": "2024-11-12T03:44:11.751139",
     "status": "completed"
    },
    "tags": []
   },
   "source": [
    "# Day 2 - Classifying embeddings with Keras and the Gemini API\n",
    "\n",
    "## Overview\n",
    "\n",
    "Welcome back to the Kaggle 5-day Generative AI course. In this notebook, you'll learn to use the embeddings produced by the Gemini API to train a model that can classify newsgroup posts into the categories (the newsgroup itself) from the post contents.\n",
    "\n",
    "This technique uses the Gemini API's embeddings as input, avoiding the need to train on text input directly, and as a result it is able to perform quite well using relatively few examples compared to training a text model from scratch.\n",
    "\n",
    "## For help\n",
    "\n",
    "**Common issues are covered in the [FAQ and troubleshooting guide](https://www.kaggle.com/code/markishere/day-0-troubleshooting-and-faqs).**\n"
   ]
  },
  {
   "cell_type": "code",
   "execution_count": 2,
   "id": "44ef0450",
   "metadata": {
    "execution": {
     "iopub.execute_input": "2024-11-12T03:44:11.788888Z",
     "iopub.status.busy": "2024-11-12T03:44:11.788445Z",
     "iopub.status.idle": "2024-11-12T03:44:47.959108Z",
     "shell.execute_reply": "2024-11-12T03:44:47.957071Z"
    },
    "id": "FXq0ygI3BCdQ",
    "papermill": {
     "duration": 36.197962,
     "end_time": "2024-11-12T03:44:47.973146",
     "exception": false,
     "start_time": "2024-11-12T03:44:11.775184",
     "status": "completed"
    },
    "tags": []
   },
   "outputs": [
    {
     "name": "stdout",
     "output_type": "stream",
     "text": [
      "Note: you may need to restart the kernel to use updated packages.\n"
     ]
    }
   ],
   "source": [
    "%pip install -U -q \"google-generativeai>=0.8.3\""
   ]
  },
  {
   "cell_type": "code",
   "execution_count": 3,
   "id": "68d56539",
   "metadata": {
    "execution": {
     "iopub.execute_input": "2024-11-12T03:44:47.999653Z",
     "iopub.status.busy": "2024-11-12T03:44:47.999132Z",
     "iopub.status.idle": "2024-11-12T03:44:49.368072Z",
     "shell.execute_reply": "2024-11-12T03:44:49.366600Z"
    },
    "id": "XiJjB2vWCQJP",
    "papermill": {
     "duration": 1.38615,
     "end_time": "2024-11-12T03:44:49.371118",
     "exception": false,
     "start_time": "2024-11-12T03:44:47.984968",
     "status": "completed"
    },
    "tags": []
   },
   "outputs": [],
   "source": [
    "import google.generativeai as genai"
   ]
  },
  {
   "cell_type": "markdown",
   "id": "2689bb3c",
   "metadata": {
    "id": "_mwJYXpElYJc",
    "papermill": {
     "duration": 0.011862,
     "end_time": "2024-11-12T03:44:49.396234",
     "exception": false,
     "start_time": "2024-11-12T03:44:49.384372",
     "status": "completed"
    },
    "tags": []
   },
   "source": [
    "### Set up your API key\n",
    "\n",
    "To run the following cell, your API key must be stored it in a [Kaggle secret](https://www.kaggle.com/discussions/product-feedback/114053) named `GOOGLE_API_KEY`.\n",
    "\n",
    "If you don't already have an API key, you can grab one from [AI Studio](https://aistudio.google.com/app/apikey). You can find [detailed instructions in the docs](https://ai.google.dev/gemini-api/docs/api-key).\n",
    "\n",
    "To make the key available through Kaggle secrets, choose `Secrets` from the `Add-ons` menu and follow the instructions to add your key or enable it for this notebook."
   ]
  },
  {
   "cell_type": "code",
   "execution_count": 4,
   "id": "a618c236",
   "metadata": {
    "execution": {
     "iopub.execute_input": "2024-11-12T03:44:49.425707Z",
     "iopub.status.busy": "2024-11-12T03:44:49.423990Z",
     "iopub.status.idle": "2024-11-12T03:44:49.582797Z",
     "shell.execute_reply": "2024-11-12T03:44:49.581545Z"
    },
    "id": "tayrk_A2lZ7A",
    "papermill": {
     "duration": 0.177449,
     "end_time": "2024-11-12T03:44:49.586232",
     "exception": false,
     "start_time": "2024-11-12T03:44:49.408783",
     "status": "completed"
    },
    "tags": []
   },
   "outputs": [],
   "source": [
    "from kaggle_secrets import UserSecretsClient\n",
    "\n",
    "GOOGLE_API_KEY = UserSecretsClient().get_secret(\"GOOGLE_API_KEY\")\n",
    "genai.configure(api_key=GOOGLE_API_KEY)"
   ]
  },
  {
   "attachments": {
    "d3939d80-b913-4db1-bd49-77f6183bf86e.png": {
     "image/png": "[encoded data removed]"
    }
   },
   "cell_type": "markdown",
   "id": "27c9008a",
   "metadata": {
    "id": "c79728739642",
    "papermill": {
     "duration": 0.012564,
     "end_time": "2024-11-12T03:44:49.611907",
     "exception": false,
     "start_time": "2024-11-12T03:44:49.599343",
     "status": "completed"
    },
    "tags": []
   },
   "source": [
    "If you received an error response along the lines of `No user secrets exist for kernel id ...`, then you need to add your API key via `Add-ons`, `Secrets` **and** enable it.\n",
    "\n",
    "![Screenshot of the checkbox to enable GOOGLE_API_KEY secret](https://storage.googleapis.com/kaggle-media/Images/5gdai_sc_3.png)"
   ]
  },
  {
   "cell_type": "markdown",
   "id": "62df266c",
   "metadata": {
    "id": "C5B9sWq0hNEV",
    "papermill": {
     "duration": 0.011721,
     "end_time": "2024-11-12T03:44:49.635697",
     "exception": false,
     "start_time": "2024-11-12T03:44:49.623976",
     "status": "completed"
    },
    "tags": []
   },
   "source": [
    "## Dataset\n",
    "\n",
    "The [20 Newsgroups Text Dataset](https://scikit-learn.org/0.19/datasets/twenty_newsgroups.html) contains 18,000 newsgroups posts on 20 topics divided into training and test sets. The split between the training and test datasets are based on messages posted before and after a specific date. For this tutorial, you will use sampled subsets of the training and test sets, and perform some processing using Pandas."
   ]
  },
  {
   "cell_type": "code",
   "execution_count": 5,
   "id": "7229345c",
   "metadata": {
    "execution": {
     "iopub.execute_input": "2024-11-12T03:44:49.662827Z",
     "iopub.status.busy": "2024-11-12T03:44:49.662236Z",
     "iopub.status.idle": "2024-11-12T03:45:04.227586Z",
     "shell.execute_reply": "2024-11-12T03:45:04.226366Z"
    },
    "id": "jDoKis4om-Ea",
    "papermill": {
     "duration": 14.582514,
     "end_time": "2024-11-12T03:45:04.230913",
     "exception": false,
     "start_time": "2024-11-12T03:44:49.648399",
     "status": "completed"
    },
    "tags": []
   },
   "outputs": [
    {
     "data": {
      "text/plain": [
       "['alt.atheism',\n",
       " 'comp.graphics',\n",
       " 'comp.os.ms-windows.misc',\n",
       " 'comp.sys.ibm.pc.hardware',\n",
       " 'comp.sys.mac.hardware',\n",
       " 'comp.windows.x',\n",
       " 'misc.forsale',\n",
       " 'rec.autos',\n",
       " 'rec.motorcycles',\n",
       " 'rec.sport.baseball',\n",
       " 'rec.sport.hockey',\n",
       " 'sci.crypt',\n",
       " 'sci.electronics',\n",
       " 'sci.med',\n",
       " 'sci.space',\n",
       " 'soc.religion.christian',\n",
       " 'talk.politics.guns',\n",
       " 'talk.politics.mideast',\n",
       " 'talk.politics.misc',\n",
       " 'talk.religion.misc']"
      ]
     },
     "execution_count": 5,
     "metadata": {},
     "output_type": "execute_result"
    }
   ],
   "source": [
    "from sklearn.datasets import fetch_20newsgroups\n",
    "\n",
    "newsgroups_train = fetch_20newsgroups(subset=\"train\")\n",
    "newsgroups_test = fetch_20newsgroups(subset=\"test\")\n",
    "\n",
    "# View list of class names for dataset\n",
    "newsgroups_train.target_names"
   ]
  },
  {
   "cell_type": "markdown",
   "id": "558bff98",
   "metadata": {
    "id": "hDz9MjkNl_FD",
    "papermill": {
     "duration": 0.011754,
     "end_time": "2024-11-12T03:45:04.255117",
     "exception": false,
     "start_time": "2024-11-12T03:45:04.243363",
     "status": "completed"
    },
    "tags": []
   },
   "source": [
    "Here is an example of what a record from the training set looks like."
   ]
  },
  {
   "cell_type": "code",
   "execution_count": 6,
   "id": "55a7d6e6",
   "metadata": {
    "execution": {
     "iopub.execute_input": "2024-11-12T03:45:04.282298Z",
     "iopub.status.busy": "2024-11-12T03:45:04.281815Z",
     "iopub.status.idle": "2024-11-12T03:45:04.288841Z",
     "shell.execute_reply": "2024-11-12T03:45:04.287288Z"
    },
    "id": "FPq-56AimOPX",
    "papermill": {
     "duration": 0.023494,
     "end_time": "2024-11-12T03:45:04.291727",
     "exception": false,
     "start_time": "2024-11-12T03:45:04.268233",
     "status": "completed"
    },
    "tags": []
   },
   "outputs": [
    {
     "name": "stdout",
     "output_type": "stream",
     "text": [
      "From: lerxst@wam.umd.edu (where's my thing)\n",
      "Subject: WHAT car is this!?\n",
      "Nntp-Posting-Host: rac3.wam.umd.edu\n",
      "Organization: University of Maryland, College Park\n",
      "Lines: 15\n",
      "\n",
      " I was wondering if anyone out there could enlighten me on this car I saw\n",
      "the other day. It was a 2-door sports car, looked to be from the late 60s/\n",
      "early 70s. It was called a Bricklin. The doors were really small. In addition,\n",
      "the front bumper was separate from the rest of the body. This is \n",
      "all I know. If anyone can tellme a model name, engine specs, years\n",
      "of production, where this car is made, history, or whatever info you\n",
      "have on this funky looking car, please e-mail.\n",
      "\n",
      "Thanks,\n",
      "- IL\n",
      "   ---- brought to you by your neighborhood Lerxst ----\n",
      "\n",
      "\n",
      "\n",
      "\n",
      "\n"
     ]
    }
   ],
   "source": [
    "print(newsgroups_train.data[0])"
   ]
  },
  {
   "cell_type": "markdown",
   "id": "29a2fff6",
   "metadata": {
    "id": "A9-DD7wgCx8j",
    "papermill": {
     "duration": 0.013165,
     "end_time": "2024-11-12T03:45:04.317440",
     "exception": false,
     "start_time": "2024-11-12T03:45:04.304275",
     "status": "completed"
    },
    "tags": []
   },
   "source": [
    "Start by preprocessing the data for this tutorial in a Pandas dataframe. To remove any sensitive information like names and email addresses, you will take only the subject and body of each message. This is an optional step that transforms the input data into more generic text, rather than email posts, so that it will work in other contexts."
   ]
  },
  {
   "cell_type": "code",
   "execution_count": 7,
   "id": "2e82241c",
   "metadata": {
    "execution": {
     "iopub.execute_input": "2024-11-12T03:45:04.344201Z",
     "iopub.status.busy": "2024-11-12T03:45:04.343730Z",
     "iopub.status.idle": "2024-11-12T03:45:05.378835Z",
     "shell.execute_reply": "2024-11-12T03:45:05.377316Z"
    },
    "id": "urpLwp3UmPF3",
    "papermill": {
     "duration": 1.052329,
     "end_time": "2024-11-12T03:45:05.382030",
     "exception": false,
     "start_time": "2024-11-12T03:45:04.329701",
     "status": "completed"
    },
    "tags": []
   },
   "outputs": [],
   "source": [
    "import email\n",
    "import re\n",
    "\n",
    "import pandas as pd\n",
    "\n",
    "\n",
    "def preprocess_newsgroup_row(data):\n",
    "    # Extract only the subject and body\n",
    "    msg = email.message_from_string(data)\n",
    "    text = f\"{msg['Subject']}\\n\\n{msg.get_payload()}\"\n",
    "    # Strip any remaining email addresses\n",
    "    text = re.sub(r\"[\\w\\.-]+@[\\w\\.-]+\", \"\", text)\n",
    "    # Truncate each entry to 5,000 characters\n",
    "    text = text[:5000]\n",
    "\n",
    "    return text\n",
    "\n",
    "\n",
    "def preprocess_newsgroup_data(newsgroup_dataset):\n",
    "    # Put data points into dataframe\n",
    "    df = pd.DataFrame(\n",
    "        {\"Text\": newsgroup_dataset.data, \"Label\": newsgroup_dataset.target}\n",
    "    )\n",
    "    # Clean up the text\n",
    "    df[\"Text\"] = df[\"Text\"].apply(preprocess_newsgroup_row)\n",
    "    # Match label to target name index\n",
    "    df[\"Class Name\"] = df[\"Label\"].map(lambda l: newsgroup_dataset.target_names[l])\n",
    "\n",
    "    return df"
   ]
  },
  {
   "cell_type": "code",
   "execution_count": 8,
   "id": "a6a57af8",
   "metadata": {
    "execution": {
     "iopub.execute_input": "2024-11-12T03:45:05.410043Z",
     "iopub.status.busy": "2024-11-12T03:45:05.408564Z",
     "iopub.status.idle": "2024-11-12T03:45:12.355254Z",
     "shell.execute_reply": "2024-11-12T03:45:12.353751Z"
    },
    "id": "JMKddQdNnAOV",
    "papermill": {
     "duration": 6.963568,
     "end_time": "2024-11-12T03:45:12.358462",
     "exception": false,
     "start_time": "2024-11-12T03:45:05.394894",
     "status": "completed"
    },
    "tags": []
   },
   "outputs": [
    {
     "data": {
      "text/html": [
       "<div>\n",
       "<style scoped>\n",
       "    .dataframe tbody tr th:only-of-type {\n",
       "        vertical-align: middle;\n",
       "    }\n",
       "\n",
       "    .dataframe tbody tr th {\n",
       "        vertical-align: top;\n",
       "    }\n",
       "\n",
       "    .dataframe thead th {\n",
       "        text-align: right;\n",
       "    }\n",
       "</style>\n",
       "<table border=\"1\" class=\"dataframe\">\n",
       "  <thead>\n",
       "    <tr style=\"text-align: right;\">\n",
       "      <th></th>\n",
       "      <th>Text</th>\n",
       "      <th>Label</th>\n",
       "      <th>Class Name</th>\n",
       "    </tr>\n",
       "  </thead>\n",
       "  <tbody>\n",
       "    <tr>\n",
       "      <th>0</th>\n",
       "      <td>WHAT car is this!?\\n\\n I was wondering if anyo...</td>\n",
       "      <td>7</td>\n",
       "      <td>rec.autos</td>\n",
       "    </tr>\n",
       "    <tr>\n",
       "      <th>1</th>\n",
       "      <td>SI Clock Poll - Final Call\\n\\nA fair number of...</td>\n",
       "      <td>4</td>\n",
       "      <td>comp.sys.mac.hardware</td>\n",
       "    </tr>\n",
       "    <tr>\n",
       "      <th>2</th>\n",
       "      <td>PB questions...\\n\\nwell folks, my mac plus fin...</td>\n",
       "      <td>4</td>\n",
       "      <td>comp.sys.mac.hardware</td>\n",
       "    </tr>\n",
       "    <tr>\n",
       "      <th>3</th>\n",
       "      <td>Re: Weitek P9000 ?\\n\\nRobert J.C. Kyanko () wr...</td>\n",
       "      <td>1</td>\n",
       "      <td>comp.graphics</td>\n",
       "    </tr>\n",
       "    <tr>\n",
       "      <th>4</th>\n",
       "      <td>Re: Shuttle Launch Question\\n\\nFrom article &lt;&gt;...</td>\n",
       "      <td>14</td>\n",
       "      <td>sci.space</td>\n",
       "    </tr>\n",
       "  </tbody>\n",
       "</table>\n",
       "</div>"
      ],
      "text/plain": [
       "                                                Text  Label  \\\n",
       "0  WHAT car is this!?\\n\\n I was wondering if anyo...      7   \n",
       "1  SI Clock Poll - Final Call\\n\\nA fair number of...      4   \n",
       "2  PB questions...\\n\\nwell folks, my mac plus fin...      4   \n",
       "3  Re: Weitek P9000 ?\\n\\nRobert J.C. Kyanko () wr...      1   \n",
       "4  Re: Shuttle Launch Question\\n\\nFrom article <>...     14   \n",
       "\n",
       "              Class Name  \n",
       "0              rec.autos  \n",
       "1  comp.sys.mac.hardware  \n",
       "2  comp.sys.mac.hardware  \n",
       "3          comp.graphics  \n",
       "4              sci.space  "
      ]
     },
     "execution_count": 8,
     "metadata": {},
     "output_type": "execute_result"
    }
   ],
   "source": [
    "# Apply preprocessing function to training and test datasets\n",
    "df_train = preprocess_newsgroup_data(newsgroups_train)\n",
    "df_test = preprocess_newsgroup_data(newsgroups_test)\n",
    "\n",
    "df_train.head()"
   ]
  },
  {
   "cell_type": "markdown",
   "id": "4622cd91",
   "metadata": {
    "id": "ogEGbg5XDv-T",
    "papermill": {
     "duration": 0.012598,
     "end_time": "2024-11-12T03:45:12.385539",
     "exception": false,
     "start_time": "2024-11-12T03:45:12.372941",
     "status": "completed"
    },
    "tags": []
   },
   "source": [
    "Next, you will sample some of the data by taking 100 data points in the training dataset, and dropping a few of the categories to run through this tutorial. Choose the science categories to compare."
   ]
  },
  {
   "cell_type": "code",
   "execution_count": 9,
   "id": "46b3bfd8",
   "metadata": {
    "execution": {
     "iopub.execute_input": "2024-11-12T03:45:12.413927Z",
     "iopub.status.busy": "2024-11-12T03:45:12.413407Z",
     "iopub.status.idle": "2024-11-12T03:45:12.422607Z",
     "shell.execute_reply": "2024-11-12T03:45:12.420979Z"
    },
    "id": "C2N7xXhJohLR",
    "papermill": {
     "duration": 0.028052,
     "end_time": "2024-11-12T03:45:12.426165",
     "exception": false,
     "start_time": "2024-11-12T03:45:12.398113",
     "status": "completed"
    },
    "tags": []
   },
   "outputs": [],
   "source": [
    "def sample_data(df, num_samples, classes_to_keep):\n",
    "    # Sample rows, selecting num_samples of each Label.\n",
    "    df = (\n",
    "        df.groupby(\"Label\")[df.columns]\n",
    "        .apply(lambda x: x.sample(num_samples))\n",
    "        .reset_index(drop=True)\n",
    "    )\n",
    "\n",
    "    df = df[df[\"Class Name\"].str.contains(classes_to_keep)]\n",
    "\n",
    "    # We have fewer categories now, so re-calibrate the label encoding.\n",
    "    df[\"Class Name\"] = df[\"Class Name\"].astype(\"category\")\n",
    "    df[\"Encoded Label\"] = df[\"Class Name\"].cat.codes\n",
    "\n",
    "    return df"
   ]
  },
  {
   "cell_type": "code",
   "execution_count": 10,
   "id": "349244af",
   "metadata": {
    "execution": {
     "iopub.execute_input": "2024-11-12T03:45:12.455423Z",
     "iopub.status.busy": "2024-11-12T03:45:12.454955Z",
     "iopub.status.idle": "2024-11-12T03:45:12.518946Z",
     "shell.execute_reply": "2024-11-12T03:45:12.517558Z"
    },
    "id": "jS2g_ZGupBUb",
    "papermill": {
     "duration": 0.081961,
     "end_time": "2024-11-12T03:45:12.522497",
     "exception": false,
     "start_time": "2024-11-12T03:45:12.440536",
     "status": "completed"
    },
    "tags": []
   },
   "outputs": [],
   "source": [
    "TRAIN_NUM_SAMPLES = 100\n",
    "TEST_NUM_SAMPLES = 25\n",
    "CLASSES_TO_KEEP = \"sci\"  # Class name should contain 'sci' to keep science categories\n",
    "\n",
    "df_train = sample_data(df_train, TRAIN_NUM_SAMPLES, CLASSES_TO_KEEP)\n",
    "df_test = sample_data(df_test, TEST_NUM_SAMPLES, CLASSES_TO_KEEP)"
   ]
  },
  {
   "cell_type": "code",
   "execution_count": 11,
   "id": "dfb8ec64",
   "metadata": {
    "execution": {
     "iopub.execute_input": "2024-11-12T03:45:12.551277Z",
     "iopub.status.busy": "2024-11-12T03:45:12.550831Z",
     "iopub.status.idle": "2024-11-12T03:45:12.569060Z",
     "shell.execute_reply": "2024-11-12T03:45:12.567347Z"
    },
    "id": "j04TMPY8rV5q",
    "papermill": {
     "duration": 0.03725,
     "end_time": "2024-11-12T03:45:12.572855",
     "exception": false,
     "start_time": "2024-11-12T03:45:12.535605",
     "status": "completed"
    },
    "tags": []
   },
   "outputs": [
    {
     "data": {
      "text/plain": [
       "Class Name\n",
       "sci.crypt          100\n",
       "sci.electronics    100\n",
       "sci.med            100\n",
       "sci.space          100\n",
       "Name: count, dtype: int64"
      ]
     },
     "execution_count": 11,
     "metadata": {},
     "output_type": "execute_result"
    }
   ],
   "source": [
    "df_train.value_counts(\"Class Name\")"
   ]
  },
  {
   "cell_type": "code",
   "execution_count": 12,
   "id": "7206f7a3",
   "metadata": {
    "execution": {
     "iopub.execute_input": "2024-11-12T03:45:12.603413Z",
     "iopub.status.busy": "2024-11-12T03:45:12.602936Z",
     "iopub.status.idle": "2024-11-12T03:45:12.616387Z",
     "shell.execute_reply": "2024-11-12T03:45:12.614743Z"
    },
    "id": "qMsnfkVDsJlU",
    "papermill": {
     "duration": 0.03312,
     "end_time": "2024-11-12T03:45:12.619804",
     "exception": false,
     "start_time": "2024-11-12T03:45:12.586684",
     "status": "completed"
    },
    "tags": []
   },
   "outputs": [
    {
     "data": {
      "text/plain": [
       "Class Name\n",
       "sci.crypt          25\n",
       "sci.electronics    25\n",
       "sci.med            25\n",
       "sci.space          25\n",
       "Name: count, dtype: int64"
      ]
     },
     "execution_count": 12,
     "metadata": {},
     "output_type": "execute_result"
    }
   ],
   "source": [
    "df_test.value_counts(\"Class Name\")"
   ]
  },
  {
   "cell_type": "markdown",
   "id": "283a5be3",
   "metadata": {
    "id": "Kr-WlKzXjYWn",
    "papermill": {
     "duration": 0.014139,
     "end_time": "2024-11-12T03:45:12.647516",
     "exception": false,
     "start_time": "2024-11-12T03:45:12.633377",
     "status": "completed"
    },
    "tags": []
   },
   "source": [
    "## Create the embeddings\n",
    "\n",
    "In this section, you will generate embeddings for each piece of text using the Gemini API embeddings endpoint. To learn more about embeddings, visit the [embeddings guide](https://ai.google.dev/docs/embeddings_guide).\n",
    "\n",
    "**NOTE**: Embeddings are computed one at a time, so large sample sizes can take a long time!"
   ]
  },
  {
   "cell_type": "markdown",
   "id": "7210e31b",
   "metadata": {
    "id": "yPECMeE2xYA_",
    "papermill": {
     "duration": 0.012873,
     "end_time": "2024-11-12T03:45:12.674531",
     "exception": false,
     "start_time": "2024-11-12T03:45:12.661658",
     "status": "completed"
    },
    "tags": []
   },
   "source": [
    "### Task types\n",
    "\n",
    "The `text-embedding-004` model supports a task type parameter that generates embeddings tailored for the specific task.\n",
    "\n",
    "Task Type | Description\n",
    "---       | ---\n",
    "RETRIEVAL_QUERY\t| Specifies the given text is a query in a search/retrieval setting.\n",
    "RETRIEVAL_DOCUMENT | Specifies the given text is a document in a search/retrieval setting.\n",
    "SEMANTIC_SIMILARITY\t| Specifies the given text will be used for Semantic Textual Similarity (STS).\n",
    "CLASSIFICATION\t| Specifies that the embeddings will be used for classification.\n",
    "CLUSTERING\t| Specifies that the embeddings will be used for clustering.\n",
    "FACT_VERIFICATION | Specifies that the given text will be used for fact verification.\n",
    "\n",
    "For this example you will be performing classification."
   ]
  },
  {
   "cell_type": "code",
   "execution_count": 13,
   "id": "76cc174c",
   "metadata": {
    "execution": {
     "iopub.execute_input": "2024-11-12T03:45:12.703208Z",
     "iopub.status.busy": "2024-11-12T03:45:12.701986Z",
     "iopub.status.idle": "2024-11-12T03:45:12.713275Z",
     "shell.execute_reply": "2024-11-12T03:45:12.711779Z"
    },
    "id": "MTBGKkPQsotz",
    "papermill": {
     "duration": 0.029063,
     "end_time": "2024-11-12T03:45:12.716388",
     "exception": false,
     "start_time": "2024-11-12T03:45:12.687325",
     "status": "completed"
    },
    "tags": []
   },
   "outputs": [],
   "source": [
    "from tqdm.auto import tqdm\n",
    "\n",
    "tqdm.pandas()\n",
    "\n",
    "from google.api_core import retry\n",
    "\n",
    "\n",
    "@retry.Retry(timeout=300.0)\n",
    "def embed_fn(text: str) -> list[float]:\n",
    "    # You will be performing classification, so set task_type accordingly.\n",
    "    response = genai.embed_content(\n",
    "        model=\"models/text-embedding-004\", content=text, task_type=\"classification\"\n",
    "    )\n",
    "\n",
    "    return response[\"embedding\"]\n",
    "\n",
    "\n",
    "def create_embeddings(df):\n",
    "    df[\"Embeddings\"] = df[\"Text\"].progress_apply(embed_fn)\n",
    "    return df"
   ]
  },
  {
   "cell_type": "markdown",
   "id": "2192463c",
   "metadata": {
    "id": "HVDwY8F2kW2O",
    "papermill": {
     "duration": 0.01342,
     "end_time": "2024-11-12T03:45:12.743245",
     "exception": false,
     "start_time": "2024-11-12T03:45:12.729825",
     "status": "completed"
    },
    "tags": []
   },
   "source": [
    "This code is optimised for clarity, and is not particularly fast. It is left as an exercise for the reader to implement [batch](https://ai.google.dev/api/embeddings#method:-models.batchembedcontents) or parallel/asynchronous embedding generation. Running this step will take some time."
   ]
  },
  {
   "cell_type": "code",
   "execution_count": 14,
   "id": "91c37ed9",
   "metadata": {
    "execution": {
     "iopub.execute_input": "2024-11-12T03:45:12.775437Z",
     "iopub.status.busy": "2024-11-12T03:45:12.774748Z",
     "iopub.status.idle": "2024-11-12T03:47:20.706009Z",
     "shell.execute_reply": "2024-11-12T03:47:20.704634Z"
    },
    "id": "AH0yrHUHtHtw",
    "papermill": {
     "duration": 127.951098,
     "end_time": "2024-11-12T03:47:20.709087",
     "exception": false,
     "start_time": "2024-11-12T03:45:12.757989",
     "status": "completed"
    },
    "tags": []
   },
   "outputs": [
    {
     "data": {
      "application/vnd.jupyter.widget-view+json": {
       "model_id": "88afb05097524a79a6182aa0112fcad6",
       "version_major": 2,
       "version_minor": 0
      },
      "text/plain": [
       "  0%|          | 0/400 [00:00<?, ?it/s]"
      ]
     },
     "metadata": {},
     "output_type": "display_data"
    },
    {
     "data": {
      "application/vnd.jupyter.widget-view+json": {
       "model_id": "a5241dea901e44faa866056d1828b0cc",
       "version_major": 2,
       "version_minor": 0
      },
      "text/plain": [
       "  0%|          | 0/100 [00:00<?, ?it/s]"
      ]
     },
     "metadata": {},
     "output_type": "display_data"
    }
   ],
   "source": [
    "df_train = create_embeddings(df_train)\n",
    "df_test = create_embeddings(df_test)"
   ]
  },
  {
   "cell_type": "code",
   "execution_count": 15,
   "id": "a2ffec71",
   "metadata": {
    "execution": {
     "iopub.execute_input": "2024-11-12T03:47:20.737557Z",
     "iopub.status.busy": "2024-11-12T03:47:20.737086Z",
     "iopub.status.idle": "2024-11-12T03:47:20.760434Z",
     "shell.execute_reply": "2024-11-12T03:47:20.759368Z"
    },
    "id": "6G5TvLlmRjHc",
    "papermill": {
     "duration": 0.04083,
     "end_time": "2024-11-12T03:47:20.763070",
     "exception": false,
     "start_time": "2024-11-12T03:47:20.722240",
     "status": "completed"
    },
    "tags": []
   },
   "outputs": [
    {
     "data": {
      "text/html": [
       "<div>\n",
       "<style scoped>\n",
       "    .dataframe tbody tr th:only-of-type {\n",
       "        vertical-align: middle;\n",
       "    }\n",
       "\n",
       "    .dataframe tbody tr th {\n",
       "        vertical-align: top;\n",
       "    }\n",
       "\n",
       "    .dataframe thead th {\n",
       "        text-align: right;\n",
       "    }\n",
       "</style>\n",
       "<table border=\"1\" class=\"dataframe\">\n",
       "  <thead>\n",
       "    <tr style=\"text-align: right;\">\n",
       "      <th></th>\n",
       "      <th>Text</th>\n",
       "      <th>Label</th>\n",
       "      <th>Class Name</th>\n",
       "      <th>Encoded Label</th>\n",
       "      <th>Embeddings</th>\n",
       "    </tr>\n",
       "  </thead>\n",
       "  <tbody>\n",
       "    <tr>\n",
       "      <th>1100</th>\n",
       "      <td>Re: Off the shelf cheap DES keyseach machine (...</td>\n",
       "      <td>11</td>\n",
       "      <td>sci.crypt</td>\n",
       "      <td>0</td>\n",
       "      <td>[-0.021023186, 0.01573056, -0.025516696, 0.032...</td>\n",
       "    </tr>\n",
       "    <tr>\n",
       "      <th>1101</th>\n",
       "      <td>Re: Secret algorithm [Re: Clipper Chip and cry...</td>\n",
       "      <td>11</td>\n",
       "      <td>sci.crypt</td>\n",
       "      <td>0</td>\n",
       "      <td>[0.011607585, 0.034800794, -0.042646706, 0.035...</td>\n",
       "    </tr>\n",
       "    <tr>\n",
       "      <th>1102</th>\n",
       "      <td>Re: How to detect use of an illegal cipher?\\n\\...</td>\n",
       "      <td>11</td>\n",
       "      <td>sci.crypt</td>\n",
       "      <td>0</td>\n",
       "      <td>[-0.02676054, 0.031320784, -0.059728395, 0.003...</td>\n",
       "    </tr>\n",
       "    <tr>\n",
       "      <th>1103</th>\n",
       "      <td>Re: Once tapped, your code is no good any more...</td>\n",
       "      <td>11</td>\n",
       "      <td>sci.crypt</td>\n",
       "      <td>0</td>\n",
       "      <td>[-0.0071427217, 0.020375982, -0.03936245, 0.03...</td>\n",
       "    </tr>\n",
       "    <tr>\n",
       "      <th>1104</th>\n",
       "      <td>Let's build software cryptophones for over the...</td>\n",
       "      <td>11</td>\n",
       "      <td>sci.crypt</td>\n",
       "      <td>0</td>\n",
       "      <td>[0.015012117, 0.020686908, -0.053968746, 0.007...</td>\n",
       "    </tr>\n",
       "  </tbody>\n",
       "</table>\n",
       "</div>"
      ],
      "text/plain": [
       "                                                   Text  Label Class Name  \\\n",
       "1100  Re: Off the shelf cheap DES keyseach machine (...     11  sci.crypt   \n",
       "1101  Re: Secret algorithm [Re: Clipper Chip and cry...     11  sci.crypt   \n",
       "1102  Re: How to detect use of an illegal cipher?\\n\\...     11  sci.crypt   \n",
       "1103  Re: Once tapped, your code is no good any more...     11  sci.crypt   \n",
       "1104  Let's build software cryptophones for over the...     11  sci.crypt   \n",
       "\n",
       "      Encoded Label                                         Embeddings  \n",
       "1100              0  [-0.021023186, 0.01573056, -0.025516696, 0.032...  \n",
       "1101              0  [0.011607585, 0.034800794, -0.042646706, 0.035...  \n",
       "1102              0  [-0.02676054, 0.031320784, -0.059728395, 0.003...  \n",
       "1103              0  [-0.0071427217, 0.020375982, -0.03936245, 0.03...  \n",
       "1104              0  [0.015012117, 0.020686908, -0.053968746, 0.007...  "
      ]
     },
     "execution_count": 15,
     "metadata": {},
     "output_type": "execute_result"
    }
   ],
   "source": [
    "df_train.head()"
   ]
  },
  {
   "cell_type": "markdown",
   "id": "490f2a55",
   "metadata": {
    "id": "QPYEYkIsWt_5",
    "papermill": {
     "duration": 0.01321,
     "end_time": "2024-11-12T03:47:20.789601",
     "exception": false,
     "start_time": "2024-11-12T03:47:20.776391",
     "status": "completed"
    },
    "tags": []
   },
   "source": [
    "## Build a simple classification model\n",
    "\n",
    "Here you will define a simple model that accepts the raw embedding data as input, has one hidden layer, and an output layer specifying the class probabilities. The prediction will correspond to the probability of a piece of text being a particular class of news.\n",
    "\n",
    "When you run the model, Keras will take care of details like shuffling the data points, calculating metrics and other ML boilerplate."
   ]
  },
  {
   "cell_type": "code",
   "execution_count": 16,
   "id": "bd652b97",
   "metadata": {
    "execution": {
     "iopub.execute_input": "2024-11-12T03:47:20.818634Z",
     "iopub.status.busy": "2024-11-12T03:47:20.818151Z",
     "iopub.status.idle": "2024-11-12T03:47:35.236265Z",
     "shell.execute_reply": "2024-11-12T03:47:35.234989Z"
    },
    "id": "3oLGi4w5JsQR",
    "papermill": {
     "duration": 14.436037,
     "end_time": "2024-11-12T03:47:35.239244",
     "exception": false,
     "start_time": "2024-11-12T03:47:20.803207",
     "status": "completed"
    },
    "tags": []
   },
   "outputs": [],
   "source": [
    "import keras\n",
    "from keras import layers\n",
    "\n",
    "\n",
    "def build_classification_model(input_size: int, num_classes: int) -> keras.Model:\n",
    "    return keras.Sequential(\n",
    "        [\n",
    "            layers.Input([input_size], name=\"embedding_inputs\"),\n",
    "            layers.Dense(input_size, activation=\"relu\", name=\"hidden\"),\n",
    "            layers.Dense(num_classes, activation=\"softmax\", name=\"output_probs\"),\n",
    "        ]\n",
    "    )"
   ]
  },
  {
   "cell_type": "code",
   "execution_count": 17,
   "id": "a3248384",
   "metadata": {
    "execution": {
     "iopub.execute_input": "2024-11-12T03:47:35.268447Z",
     "iopub.status.busy": "2024-11-12T03:47:35.267662Z",
     "iopub.status.idle": "2024-11-12T03:47:35.386991Z",
     "shell.execute_reply": "2024-11-12T03:47:35.385735Z"
    },
    "id": "kORA1Akl5GsG",
    "papermill": {
     "duration": 0.137275,
     "end_time": "2024-11-12T03:47:35.389991",
     "exception": false,
     "start_time": "2024-11-12T03:47:35.252716",
     "status": "completed"
    },
    "tags": []
   },
   "outputs": [
    {
     "data": {
      "text/html": [
       "<pre style=\"white-space:pre;overflow-x:auto;line-height:normal;font-family:Menlo,'DejaVu Sans Mono',consolas,'Courier New',monospace\"><span style=\"font-weight: bold\">Model: \"sequential\"</span>\n",
       "</pre>\n"
      ],
      "text/plain": [
       "\u001b[1mModel: \"sequential\"\u001b[0m\n"
      ]
     },
     "metadata": {},
     "output_type": "display_data"
    },
    {
     "data": {
      "text/html": [
       "<pre style=\"white-space:pre;overflow-x:auto;line-height:normal;font-family:Menlo,'DejaVu Sans Mono',consolas,'Courier New',monospace\">┏━━━━━━━━━━━━━━━━━━━━━━━━━━━━━━━━━┳━━━━━━━━━━━━━━━━━━━━━━━━┳━━━━━━━━━━━━━━━┓\n",
       "┃<span style=\"font-weight: bold\"> Layer (type)                    </span>┃<span style=\"font-weight: bold\"> Output Shape           </span>┃<span style=\"font-weight: bold\">       Param # </span>┃\n",
       "┡━━━━━━━━━━━━━━━━━━━━━━━━━━━━━━━━━╇━━━━━━━━━━━━━━━━━━━━━━━━╇━━━━━━━━━━━━━━━┩\n",
       "│ hidden (<span style=\"color: #0087ff; text-decoration-color: #0087ff\">Dense</span>)                  │ (<span style=\"color: #00d7ff; text-decoration-color: #00d7ff\">None</span>, <span style=\"color: #00af00; text-decoration-color: #00af00\">768</span>)            │       <span style=\"color: #00af00; text-decoration-color: #00af00\">590,592</span> │\n",
       "├─────────────────────────────────┼────────────────────────┼───────────────┤\n",
       "│ output_probs (<span style=\"color: #0087ff; text-decoration-color: #0087ff\">Dense</span>)            │ (<span style=\"color: #00d7ff; text-decoration-color: #00d7ff\">None</span>, <span style=\"color: #00af00; text-decoration-color: #00af00\">4</span>)              │         <span style=\"color: #00af00; text-decoration-color: #00af00\">3,076</span> │\n",
       "└─────────────────────────────────┴────────────────────────┴───────────────┘\n",
       "</pre>\n"
      ],
      "text/plain": [
       "┏━━━━━━━━━━━━━━━━━━━━━━━━━━━━━━━━━┳━━━━━━━━━━━━━━━━━━━━━━━━┳━━━━━━━━━━━━━━━┓\n",
       "┃\u001b[1m \u001b[0m\u001b[1mLayer (type)                   \u001b[0m\u001b[1m \u001b[0m┃\u001b[1m \u001b[0m\u001b[1mOutput Shape          \u001b[0m\u001b[1m \u001b[0m┃\u001b[1m \u001b[0m\u001b[1m      Param #\u001b[0m\u001b[1m \u001b[0m┃\n",
       "┡━━━━━━━━━━━━━━━━━━━━━━━━━━━━━━━━━╇━━━━━━━━━━━━━━━━━━━━━━━━╇━━━━━━━━━━━━━━━┩\n",
       "│ hidden (\u001b[38;5;33mDense\u001b[0m)                  │ (\u001b[38;5;45mNone\u001b[0m, \u001b[38;5;34m768\u001b[0m)            │       \u001b[38;5;34m590,592\u001b[0m │\n",
       "├─────────────────────────────────┼────────────────────────┼───────────────┤\n",
       "│ output_probs (\u001b[38;5;33mDense\u001b[0m)            │ (\u001b[38;5;45mNone\u001b[0m, \u001b[38;5;34m4\u001b[0m)              │         \u001b[38;5;34m3,076\u001b[0m │\n",
       "└─────────────────────────────────┴────────────────────────┴───────────────┘\n"
      ]
     },
     "metadata": {},
     "output_type": "display_data"
    },
    {
     "data": {
      "text/html": [
       "<pre style=\"white-space:pre;overflow-x:auto;line-height:normal;font-family:Menlo,'DejaVu Sans Mono',consolas,'Courier New',monospace\"><span style=\"font-weight: bold\"> Total params: </span><span style=\"color: #00af00; text-decoration-color: #00af00\">593,668</span> (2.26 MB)\n",
       "</pre>\n"
      ],
      "text/plain": [
       "\u001b[1m Total params: \u001b[0m\u001b[38;5;34m593,668\u001b[0m (2.26 MB)\n"
      ]
     },
     "metadata": {},
     "output_type": "display_data"
    },
    {
     "data": {
      "text/html": [
       "<pre style=\"white-space:pre;overflow-x:auto;line-height:normal;font-family:Menlo,'DejaVu Sans Mono',consolas,'Courier New',monospace\"><span style=\"font-weight: bold\"> Trainable params: </span><span style=\"color: #00af00; text-decoration-color: #00af00\">593,668</span> (2.26 MB)\n",
       "</pre>\n"
      ],
      "text/plain": [
       "\u001b[1m Trainable params: \u001b[0m\u001b[38;5;34m593,668\u001b[0m (2.26 MB)\n"
      ]
     },
     "metadata": {},
     "output_type": "display_data"
    },
    {
     "data": {
      "text/html": [
       "<pre style=\"white-space:pre;overflow-x:auto;line-height:normal;font-family:Menlo,'DejaVu Sans Mono',consolas,'Courier New',monospace\"><span style=\"font-weight: bold\"> Non-trainable params: </span><span style=\"color: #00af00; text-decoration-color: #00af00\">0</span> (0.00 B)\n",
       "</pre>\n"
      ],
      "text/plain": [
       "\u001b[1m Non-trainable params: \u001b[0m\u001b[38;5;34m0\u001b[0m (0.00 B)\n"
      ]
     },
     "metadata": {},
     "output_type": "display_data"
    }
   ],
   "source": [
    "# Derive the embedding size from observing the data. The embedding size can also be specified\n",
    "# with the `output_dimensionality` parameter to `embed_content` if you need to reduce it.\n",
    "embedding_size = len(df_train[\"Embeddings\"].iloc[0])\n",
    "\n",
    "classifier = build_classification_model(\n",
    "    embedding_size, len(df_train[\"Class Name\"].unique())\n",
    ")\n",
    "classifier.summary()\n",
    "\n",
    "classifier.compile(\n",
    "    loss=keras.losses.SparseCategoricalCrossentropy(),\n",
    "    optimizer=keras.optimizers.Adam(learning_rate=0.001),\n",
    "    metrics=[\"accuracy\"],\n",
    ")"
   ]
  },
  {
   "cell_type": "markdown",
   "id": "107a44c5",
   "metadata": {
    "id": "kbpTGGiMXDxl",
    "papermill": {
     "duration": 0.014834,
     "end_time": "2024-11-12T03:47:35.420178",
     "exception": false,
     "start_time": "2024-11-12T03:47:35.405344",
     "status": "completed"
    },
    "tags": []
   },
   "source": [
    "## Train the model\n",
    "\n",
    "Finally, you can train your model. This code uses early stopping to exit the training loop once the loss value stabilises, so the number of epoch loops executed may differ from the specified value."
   ]
  },
  {
   "cell_type": "code",
   "execution_count": 18,
   "id": "2058ed82",
   "metadata": {
    "execution": {
     "iopub.execute_input": "2024-11-12T03:47:35.452129Z",
     "iopub.status.busy": "2024-11-12T03:47:35.451605Z",
     "iopub.status.idle": "2024-11-12T03:47:38.021704Z",
     "shell.execute_reply": "2024-11-12T03:47:38.020160Z"
    },
    "id": "bGgvMZGfJ1A4",
    "papermill": {
     "duration": 2.589668,
     "end_time": "2024-11-12T03:47:38.024968",
     "exception": false,
     "start_time": "2024-11-12T03:47:35.435300",
     "status": "completed"
    },
    "tags": []
   },
   "outputs": [
    {
     "name": "stdout",
     "output_type": "stream",
     "text": [
      "Epoch 1/20\n",
      "\u001b[1m13/13\u001b[0m \u001b[32m━━━━━━━━━━━━━━━━━━━━\u001b[0m\u001b[37m\u001b[0m \u001b[1m1s\u001b[0m 28ms/step - accuracy: 0.3596 - loss: 1.3528 - val_accuracy: 0.4000 - val_loss: 1.2688\n",
      "Epoch 2/20\n",
      "\u001b[1m13/13\u001b[0m \u001b[32m━━━━━━━━━━━━━━━━━━━━\u001b[0m\u001b[37m\u001b[0m \u001b[1m0s\u001b[0m 10ms/step - accuracy: 0.6140 - loss: 1.2048 - val_accuracy: 0.6500 - val_loss: 1.1338\n",
      "Epoch 3/20\n",
      "\u001b[1m13/13\u001b[0m \u001b[32m━━━━━━━━━━━━━━━━━━━━\u001b[0m\u001b[37m\u001b[0m \u001b[1m0s\u001b[0m 9ms/step - accuracy: 0.7226 - loss: 1.0067 - val_accuracy: 0.6600 - val_loss: 1.0066\n",
      "Epoch 4/20\n",
      "\u001b[1m13/13\u001b[0m \u001b[32m━━━━━━━━━━━━━━━━━━━━\u001b[0m\u001b[37m\u001b[0m \u001b[1m0s\u001b[0m 9ms/step - accuracy: 0.8526 - loss: 0.8192 - val_accuracy: 0.8200 - val_loss: 0.8177\n",
      "Epoch 5/20\n",
      "\u001b[1m13/13\u001b[0m \u001b[32m━━━━━━━━━━━━━━━━━━━━\u001b[0m\u001b[37m\u001b[0m \u001b[1m0s\u001b[0m 9ms/step - accuracy: 0.9632 - loss: 0.6300 - val_accuracy: 0.8500 - val_loss: 0.6926\n",
      "Epoch 6/20\n",
      "\u001b[1m13/13\u001b[0m \u001b[32m━━━━━━━━━━━━━━━━━━━━\u001b[0m\u001b[37m\u001b[0m \u001b[1m0s\u001b[0m 10ms/step - accuracy: 0.9338 - loss: 0.5027 - val_accuracy: 0.8400 - val_loss: 0.6040\n",
      "Epoch 7/20\n",
      "\u001b[1m13/13\u001b[0m \u001b[32m━━━━━━━━━━━━━━━━━━━━\u001b[0m\u001b[37m\u001b[0m \u001b[1m0s\u001b[0m 10ms/step - accuracy: 0.9576 - loss: 0.3889 - val_accuracy: 0.8100 - val_loss: 0.5462\n",
      "Epoch 8/20\n",
      "\u001b[1m13/13\u001b[0m \u001b[32m━━━━━━━━━━━━━━━━━━━━\u001b[0m\u001b[37m\u001b[0m \u001b[1m0s\u001b[0m 10ms/step - accuracy: 0.9504 - loss: 0.3347 - val_accuracy: 0.8300 - val_loss: 0.4550\n"
     ]
    }
   ],
   "source": [
    "import numpy as np\n",
    "\n",
    "\n",
    "NUM_EPOCHS = 20\n",
    "BATCH_SIZE = 32\n",
    "\n",
    "# Split the x and y components of the train and validation subsets.\n",
    "y_train = df_train[\"Encoded Label\"]\n",
    "x_train = np.stack(df_train[\"Embeddings\"])\n",
    "y_val = df_test[\"Encoded Label\"]\n",
    "x_val = np.stack(df_test[\"Embeddings\"])\n",
    "\n",
    "# Specify that it's OK to stop early if accuracy stabilises.\n",
    "early_stop = keras.callbacks.EarlyStopping(monitor=\"accuracy\", patience=3)\n",
    "\n",
    "# Train the model for the desired number of epochs.\n",
    "history = classifier.fit(\n",
    "    x=x_train,\n",
    "    y=y_train,\n",
    "    validation_data=(x_val, y_val),\n",
    "    callbacks=[early_stop],\n",
    "    batch_size=BATCH_SIZE,\n",
    "    epochs=NUM_EPOCHS,\n",
    ")"
   ]
  },
  {
   "cell_type": "markdown",
   "id": "db1fa898",
   "metadata": {
    "id": "xGBaDHZUPdJO",
    "papermill": {
     "duration": 0.018741,
     "end_time": "2024-11-12T03:47:38.061750",
     "exception": false,
     "start_time": "2024-11-12T03:47:38.043009",
     "status": "completed"
    },
    "tags": []
   },
   "source": [
    "## Evaluate model performance\n",
    "\n",
    "Use Keras <a href=\"https://www.tensorflow.org/api_docs/python/tf/keras/Model#evaluate\"><code>Model.evaluate</code></a> to calculate the loss and accuracy on the test dataset."
   ]
  },
  {
   "cell_type": "code",
   "execution_count": 19,
   "id": "c73948ea",
   "metadata": {
    "execution": {
     "iopub.execute_input": "2024-11-12T03:47:38.102381Z",
     "iopub.status.busy": "2024-11-12T03:47:38.101911Z",
     "iopub.status.idle": "2024-11-12T03:47:38.217161Z",
     "shell.execute_reply": "2024-11-12T03:47:38.215279Z"
    },
    "id": "d2kOeiqqQIB8",
    "papermill": {
     "duration": 0.139807,
     "end_time": "2024-11-12T03:47:38.220790",
     "exception": false,
     "start_time": "2024-11-12T03:47:38.080983",
     "status": "completed"
    },
    "tags": []
   },
   "outputs": [
    {
     "name": "stdout",
     "output_type": "stream",
     "text": [
      "\u001b[1m4/4\u001b[0m \u001b[32m━━━━━━━━━━━━━━━━━━━━\u001b[0m\u001b[37m\u001b[0m \u001b[1m0s\u001b[0m 4ms/step - accuracy: 0.8341 - loss: 0.4476 \n"
     ]
    },
    {
     "data": {
      "text/plain": [
       "{'accuracy': 0.8299999833106995, 'loss': 0.4549703299999237}"
      ]
     },
     "execution_count": 19,
     "metadata": {},
     "output_type": "execute_result"
    }
   ],
   "source": [
    "classifier.evaluate(x=x_val, y=y_val, return_dict=True)"
   ]
  },
  {
   "cell_type": "markdown",
   "id": "b47b78f0",
   "metadata": {
    "id": "UyxMhiLYQXAN",
    "papermill": {
     "duration": 0.019344,
     "end_time": "2024-11-12T03:47:38.259283",
     "exception": false,
     "start_time": "2024-11-12T03:47:38.239939",
     "status": "completed"
    },
    "tags": []
   },
   "source": [
    "To learn more about training models with Keras, including how to visualise the model training metrics, read [Training & evaluation with built-in methods](https://www.tensorflow.org/guide/keras/training_with_built_in_methods)."
   ]
  },
  {
   "cell_type": "markdown",
   "id": "cf021a5f",
   "metadata": {
    "id": "XHyP-_torwsm",
    "papermill": {
     "duration": 0.018982,
     "end_time": "2024-11-12T03:47:38.298487",
     "exception": false,
     "start_time": "2024-11-12T03:47:38.279505",
     "status": "completed"
    },
    "tags": []
   },
   "source": [
    "## Try a custom prediction\n",
    "\n",
    "Now that you have a trained model with good evaluation metrics, you can try to make a prediction with new, hand-written data. Use the provided example or try your own data to see how the model performs."
   ]
  },
  {
   "cell_type": "code",
   "execution_count": 20,
   "id": "ce77d909",
   "metadata": {
    "execution": {
     "iopub.execute_input": "2024-11-12T03:47:38.338309Z",
     "iopub.status.busy": "2024-11-12T03:47:38.337863Z",
     "iopub.status.idle": "2024-11-12T03:47:38.587155Z",
     "shell.execute_reply": "2024-11-12T03:47:38.585734Z"
    },
    "id": "Lj4gR0Mdr2rb",
    "papermill": {
     "duration": 0.272727,
     "end_time": "2024-11-12T03:47:38.590221",
     "exception": false,
     "start_time": "2024-11-12T03:47:38.317494",
     "status": "completed"
    },
    "tags": []
   },
   "outputs": [],
   "source": [
    "# This example avoids any space-specific terminology to see if the model avoids\n",
    "# biases towards specific jargon.\n",
    "new_text = \"\"\"\n",
    "First-timer looking to get out of here.\n",
    "\n",
    "Hi, I'm writing about my interest in travelling to the outer limits!\n",
    "\n",
    "What kind of craft can I buy? What is easiest to access from this 3rd rock?\n",
    "\n",
    "Let me know how to do that please.\n",
    "\"\"\"\n",
    "embedded = embed_fn(new_text)"
   ]
  },
  {
   "cell_type": "code",
   "execution_count": 21,
   "id": "4a0dc969",
   "metadata": {
    "execution": {
     "iopub.execute_input": "2024-11-12T03:47:38.628422Z",
     "iopub.status.busy": "2024-11-12T03:47:38.627974Z",
     "iopub.status.idle": "2024-11-12T03:47:38.770505Z",
     "shell.execute_reply": "2024-11-12T03:47:38.768859Z"
    },
    "id": "CKTHEMrRsbcu",
    "papermill": {
     "duration": 0.164886,
     "end_time": "2024-11-12T03:47:38.773284",
     "exception": false,
     "start_time": "2024-11-12T03:47:38.608398",
     "status": "completed"
    },
    "tags": []
   },
   "outputs": [
    {
     "name": "stdout",
     "output_type": "stream",
     "text": [
      "\u001b[1m1/1\u001b[0m \u001b[32m━━━━━━━━━━━━━━━━━━━━\u001b[0m\u001b[37m\u001b[0m \u001b[1m0s\u001b[0m 57ms/step\n",
      "sci.crypt: 1.57%\n",
      "sci.electronics: 8.57%\n",
      "sci.med: 1.85%\n",
      "sci.space: 88.01%\n"
     ]
    }
   ],
   "source": [
    "# Remember that the model takes embeddings as input, and the input must be batched,\n",
    "# so here they are passed as a list to provide a batch of 1.\n",
    "inp = np.array([embedded])\n",
    "[result] = classifier.predict(inp)\n",
    "\n",
    "for idx, category in enumerate(df_test[\"Class Name\"].cat.categories):\n",
    "    print(f\"{category}: {result[idx] * 100:0.2f}%\")"
   ]
  },
  {
   "cell_type": "code",
   "execution_count": null,
   "id": "fad9424e",
   "metadata": {
    "papermill": {
     "duration": 0.018544,
     "end_time": "2024-11-12T03:47:38.810430",
     "exception": false,
     "start_time": "2024-11-12T03:47:38.791886",
     "status": "completed"
    },
    "tags": []
   },
   "outputs": [],
   "source": []
  }
 ],
 "metadata": {
  "colab": {
   "name": "day-2-classifying-embeddings-with-keras.ipynb",
   "toc_visible": true
  },
  "google": {
   "image_path": "/examples/train_text_classifier_embeddings_files/output_3ae76701e178_0.png",
   "keywords": [
    "examples",
    "googleai",
    "samplecode",
    "python",
    "embed"
   ]
  },
  "kaggle": {
   "accelerator": "none",
   "dataSources": [],
   "dockerImageVersionId": 30786,
   "isGpuEnabled": false,
   "isInternetEnabled": true,
   "language": "python",
   "sourceType": "notebook"
  },
  "kernelspec": {
   "display_name": "Python 3",
   "language": "python",
   "name": "python3"
  },
  "language_info": {
   "codemirror_mode": {
    "name": "ipython",
    "version": 3
   },
   "file_extension": ".py",
   "mimetype": "text/x-python",
   "name": "python",
   "nbconvert_exporter": "python",
   "pygments_lexer": "ipython3",
   "version": "3.10.14"
  },
  "papermill": {
   "default_parameters": {},
   "duration": 212.485,
   "end_time": "2024-11-12T03:47:40.758767",
   "environment_variables": {},
   "exception": null,
   "input_path": "__notebook__.ipynb",
   "output_path": "__notebook__.ipynb",
   "parameters": {},
   "start_time": "2024-11-12T03:44:08.273767",
   "version": "2.6.0"
  },
  "widgets": {
   "application/vnd.jupyter.widget-state+json": {
    "state": {
     "023c22f255f04b6f964859ffba9ffd17": {
      "model_module": "@jupyter-widgets/controls",
      "model_module_version": "1.5.0",
      "model_name": "DescriptionStyleModel",
      "state": {
       "_model_module": "@jupyter-widgets/controls",
       "_model_module_version": "1.5.0",
       "_model_name": "DescriptionStyleModel",
       "_view_count": null,
       "_view_module": "@jupyter-widgets/base",
       "_view_module_version": "1.2.0",
       "_view_name": "StyleView",
       "description_width": ""
      }
     },
     "0b133ec1f0b64c34941ab15b4c392389": {
      "model_module": "@jupyter-widgets/controls",
      "model_module_version": "1.5.0",
      "model_name": "DescriptionStyleModel",
      "state": {
       "_model_module": "@jupyter-widgets/controls",
       "_model_module_version": "1.5.0",
       "_model_name": "DescriptionStyleModel",
       "_view_count": null,
       "_view_module": "@jupyter-widgets/base",
       "_view_module_version": "1.2.0",
       "_view_name": "StyleView",
       "description_width": ""
      }
     },
     "0e5d8aa6c86d40ebba2c1f34eb85cd2b": {
      "model_module": "@jupyter-widgets/controls",
      "model_module_version": "1.5.0",
      "model_name": "DescriptionStyleModel",
      "state": {
       "_model_module": "@jupyter-widgets/controls",
       "_model_module_version": "1.5.0",
       "_model_name": "DescriptionStyleModel",
       "_view_count": null,
       "_view_module": "@jupyter-widgets/base",
       "_view_module_version": "1.2.0",
       "_view_name": "StyleView",
       "description_width": ""
      }
     },
     "1970a4fc309c428ca5116449e81efe43": {
      "model_module": "@jupyter-widgets/base",
      "model_module_version": "1.2.0",
      "model_name": "LayoutModel",
      "state": {
       "_model_module": "@jupyter-widgets/base",
       "_model_module_version": "1.2.0",
       "_model_name": "LayoutModel",
       "_view_count": null,
       "_view_module": "@jupyter-widgets/base",
       "_view_module_version": "1.2.0",
       "_view_name": "LayoutView",
       "align_content": null,
       "align_items": null,
       "align_self": null,
       "border": null,
       "bottom": null,
       "display": null,
       "flex": null,
       "flex_flow": null,
       "grid_area": null,
       "grid_auto_columns": null,
       "grid_auto_flow": null,
       "grid_auto_rows": null,
       "grid_column": null,
       "grid_gap": null,
       "grid_row": null,
       "grid_template_areas": null,
       "grid_template_columns": null,
       "grid_template_rows": null,
       "height": null,
       "justify_content": null,
       "justify_items": null,
       "left": null,
       "margin": null,
       "max_height": null,
       "max_width": null,
       "min_height": null,
       "min_width": null,
       "object_fit": null,
       "object_position": null,
       "order": null,
       "overflow": null,
       "overflow_x": null,
       "overflow_y": null,
       "padding": null,
       "right": null,
       "top": null,
       "visibility": null,
       "width": null
      }
     },
     "22996bd5112e4da39be7f2fbf529fc69": {
      "model_module": "@jupyter-widgets/controls",
      "model_module_version": "1.5.0",
      "model_name": "DescriptionStyleModel",
      "state": {
       "_model_module": "@jupyter-widgets/controls",
       "_model_module_version": "1.5.0",
       "_model_name": "DescriptionStyleModel",
       "_view_count": null,
       "_view_module": "@jupyter-widgets/base",
       "_view_module_version": "1.2.0",
       "_view_name": "StyleView",
       "description_width": ""
      }
     },
     "32f7631d09cb4c808449787ccfd59c3d": {
      "model_module": "@jupyter-widgets/base",
      "model_module_version": "1.2.0",
      "model_name": "LayoutModel",
      "state": {
       "_model_module": "@jupyter-widgets/base",
       "_model_module_version": "1.2.0",
       "_model_name": "LayoutModel",
       "_view_count": null,
       "_view_module": "@jupyter-widgets/base",
       "_view_module_version": "1.2.0",
       "_view_name": "LayoutView",
       "align_content": null,
       "align_items": null,
       "align_self": null,
       "border": null,
       "bottom": null,
       "display": null,
       "flex": null,
       "flex_flow": null,
       "grid_area": null,
       "grid_auto_columns": null,
       "grid_auto_flow": null,
       "grid_auto_rows": null,
       "grid_column": null,
       "grid_gap": null,
       "grid_row": null,
       "grid_template_areas": null,
       "grid_template_columns": null,
       "grid_template_rows": null,
       "height": null,
       "justify_content": null,
       "justify_items": null,
       "left": null,
       "margin": null,
       "max_height": null,
       "max_width": null,
       "min_height": null,
       "min_width": null,
       "object_fit": null,
       "object_position": null,
       "order": null,
       "overflow": null,
       "overflow_x": null,
       "overflow_y": null,
       "padding": null,
       "right": null,
       "top": null,
       "visibility": null,
       "width": null
      }
     },
     "4825891dfee8496ab44f85cbb0973b48": {
      "model_module": "@jupyter-widgets/controls",
      "model_module_version": "1.5.0",
      "model_name": "HTMLModel",
      "state": {
       "_dom_classes": [],
       "_model_module": "@jupyter-widgets/controls",
       "_model_module_version": "1.5.0",
       "_model_name": "HTMLModel",
       "_view_count": null,
       "_view_module": "@jupyter-widgets/controls",
       "_view_module_version": "1.5.0",
       "_view_name": "HTMLView",
       "description": "",
       "description_tooltip": null,
       "layout": "IPY_MODEL_1970a4fc309c428ca5116449e81efe43",
       "placeholder": "​",
       "style": "IPY_MODEL_0e5d8aa6c86d40ebba2c1f34eb85cd2b",
       "value": "100%"
      }
     },
     "4a03f298385d4cf3a1488f2f6c392063": {
      "model_module": "@jupyter-widgets/controls",
      "model_module_version": "1.5.0",
      "model_name": "ProgressStyleModel",
      "state": {
       "_model_module": "@jupyter-widgets/controls",
       "_model_module_version": "1.5.0",
       "_model_name": "ProgressStyleModel",
       "_view_count": null,
       "_view_module": "@jupyter-widgets/base",
       "_view_module_version": "1.2.0",
       "_view_name": "StyleView",
       "bar_color": null,
       "description_width": ""
      }
     },
     "4dce0b8503314d38ab73e59051cf505f": {
      "model_module": "@jupyter-widgets/controls",
      "model_module_version": "1.5.0",
      "model_name": "FloatProgressModel",
      "state": {
       "_dom_classes": [],
       "_model_module": "@jupyter-widgets/controls",
       "_model_module_version": "1.5.0",
       "_model_name": "FloatProgressModel",
       "_view_count": null,
       "_view_module": "@jupyter-widgets/controls",
       "_view_module_version": "1.5.0",
       "_view_name": "ProgressView",
       "bar_style": "success",
       "description": "",
       "description_tooltip": null,
       "layout": "IPY_MODEL_7b62fb8dd03a42fb93d8359d088cf294",
       "max": 400.0,
       "min": 0.0,
       "orientation": "horizontal",
       "style": "IPY_MODEL_afb5781faec649fe8f3ecd6b365e096f",
       "value": 400.0
      }
     },
     "5e46f3f0061a4b51afe83c1124ca1649": {
      "model_module": "@jupyter-widgets/controls",
      "model_module_version": "1.5.0",
      "model_name": "HTMLModel",
      "state": {
       "_dom_classes": [],
       "_model_module": "@jupyter-widgets/controls",
       "_model_module_version": "1.5.0",
       "_model_name": "HTMLModel",
       "_view_count": null,
       "_view_module": "@jupyter-widgets/controls",
       "_view_module_version": "1.5.0",
       "_view_name": "HTMLView",
       "description": "",
       "description_tooltip": null,
       "layout": "IPY_MODEL_d2cd8046b0ed43c2800fa1a9f2b1ee05",
       "placeholder": "​",
       "style": "IPY_MODEL_22996bd5112e4da39be7f2fbf529fc69",
       "value": " 400/400 [01:42&lt;00:00,  3.97it/s]"
      }
     },
     "7b62fb8dd03a42fb93d8359d088cf294": {
      "model_module": "@jupyter-widgets/base",
      "model_module_version": "1.2.0",
      "model_name": "LayoutModel",
      "state": {
       "_model_module": "@jupyter-widgets/base",
       "_model_module_version": "1.2.0",
       "_model_name": "LayoutModel",
       "_view_count": null,
       "_view_module": "@jupyter-widgets/base",
       "_view_module_version": "1.2.0",
       "_view_name": "LayoutView",
       "align_content": null,
       "align_items": null,
       "align_self": null,
       "border": null,
       "bottom": null,
       "display": null,
       "flex": null,
       "flex_flow": null,
       "grid_area": null,
       "grid_auto_columns": null,
       "grid_auto_flow": null,
       "grid_auto_rows": null,
       "grid_column": null,
       "grid_gap": null,
       "grid_row": null,
       "grid_template_areas": null,
       "grid_template_columns": null,
       "grid_template_rows": null,
       "height": null,
       "justify_content": null,
       "justify_items": null,
       "left": null,
       "margin": null,
       "max_height": null,
       "max_width": null,
       "min_height": null,
       "min_width": null,
       "object_fit": null,
       "object_position": null,
       "order": null,
       "overflow": null,
       "overflow_x": null,
       "overflow_y": null,
       "padding": null,
       "right": null,
       "top": null,
       "visibility": null,
       "width": null
      }
     },
     "7ce69dac4e01421c93b301a7e47a0c37": {
      "model_module": "@jupyter-widgets/base",
      "model_module_version": "1.2.0",
      "model_name": "LayoutModel",
      "state": {
       "_model_module": "@jupyter-widgets/base",
       "_model_module_version": "1.2.0",
       "_model_name": "LayoutModel",
       "_view_count": null,
       "_view_module": "@jupyter-widgets/base",
       "_view_module_version": "1.2.0",
       "_view_name": "LayoutView",
       "align_content": null,
       "align_items": null,
       "align_self": null,
       "border": null,
       "bottom": null,
       "display": null,
       "flex": null,
       "flex_flow": null,
       "grid_area": null,
       "grid_auto_columns": null,
       "grid_auto_flow": null,
       "grid_auto_rows": null,
       "grid_column": null,
       "grid_gap": null,
       "grid_row": null,
       "grid_template_areas": null,
       "grid_template_columns": null,
       "grid_template_rows": null,
       "height": null,
       "justify_content": null,
       "justify_items": null,
       "left": null,
       "margin": null,
       "max_height": null,
       "max_width": null,
       "min_height": null,
       "min_width": null,
       "object_fit": null,
       "object_position": null,
       "order": null,
       "overflow": null,
       "overflow_x": null,
       "overflow_y": null,
       "padding": null,
       "right": null,
       "top": null,
       "visibility": null,
       "width": null
      }
     },
     "88afb05097524a79a6182aa0112fcad6": {
      "model_module": "@jupyter-widgets/controls",
      "model_module_version": "1.5.0",
      "model_name": "HBoxModel",
      "state": {
       "_dom_classes": [],
       "_model_module": "@jupyter-widgets/controls",
       "_model_module_version": "1.5.0",
       "_model_name": "HBoxModel",
       "_view_count": null,
       "_view_module": "@jupyter-widgets/controls",
       "_view_module_version": "1.5.0",
       "_view_name": "HBoxView",
       "box_style": "",
       "children": [
        "IPY_MODEL_4825891dfee8496ab44f85cbb0973b48",
        "IPY_MODEL_4dce0b8503314d38ab73e59051cf505f",
        "IPY_MODEL_5e46f3f0061a4b51afe83c1124ca1649"
       ],
       "layout": "IPY_MODEL_32f7631d09cb4c808449787ccfd59c3d"
      }
     },
     "a148bac1f78a4da8b1ec3273ca445c8a": {
      "model_module": "@jupyter-widgets/base",
      "model_module_version": "1.2.0",
      "model_name": "LayoutModel",
      "state": {
       "_model_module": "@jupyter-widgets/base",
       "_model_module_version": "1.2.0",
       "_model_name": "LayoutModel",
       "_view_count": null,
       "_view_module": "@jupyter-widgets/base",
       "_view_module_version": "1.2.0",
       "_view_name": "LayoutView",
       "align_content": null,
       "align_items": null,
       "align_self": null,
       "border": null,
       "bottom": null,
       "display": null,
       "flex": null,
       "flex_flow": null,
       "grid_area": null,
       "grid_auto_columns": null,
       "grid_auto_flow": null,
       "grid_auto_rows": null,
       "grid_column": null,
       "grid_gap": null,
       "grid_row": null,
       "grid_template_areas": null,
       "grid_template_columns": null,
       "grid_template_rows": null,
       "height": null,
       "justify_content": null,
       "justify_items": null,
       "left": null,
       "margin": null,
       "max_height": null,
       "max_width": null,
       "min_height": null,
       "min_width": null,
       "object_fit": null,
       "object_position": null,
       "order": null,
       "overflow": null,
       "overflow_x": null,
       "overflow_y": null,
       "padding": null,
       "right": null,
       "top": null,
       "visibility": null,
       "width": null
      }
     },
     "a5241dea901e44faa866056d1828b0cc": {
      "model_module": "@jupyter-widgets/controls",
      "model_module_version": "1.5.0",
      "model_name": "HBoxModel",
      "state": {
       "_dom_classes": [],
       "_model_module": "@jupyter-widgets/controls",
       "_model_module_version": "1.5.0",
       "_model_name": "HBoxModel",
       "_view_count": null,
       "_view_module": "@jupyter-widgets/controls",
       "_view_module_version": "1.5.0",
       "_view_name": "HBoxView",
       "box_style": "",
       "children": [
        "IPY_MODEL_d899195d2fac4d6cabe49af382cb07f8",
        "IPY_MODEL_ef7f49170e4542978bfc76f84eb13e4b",
        "IPY_MODEL_c63bda933184481eba5f1d5931e0cb8d"
       ],
       "layout": "IPY_MODEL_edec2e5cf5d94005ae1c0501439c11c2"
      }
     },
     "afb5781faec649fe8f3ecd6b365e096f": {
      "model_module": "@jupyter-widgets/controls",
      "model_module_version": "1.5.0",
      "model_name": "ProgressStyleModel",
      "state": {
       "_model_module": "@jupyter-widgets/controls",
       "_model_module_version": "1.5.0",
       "_model_name": "ProgressStyleModel",
       "_view_count": null,
       "_view_module": "@jupyter-widgets/base",
       "_view_module_version": "1.2.0",
       "_view_name": "StyleView",
       "bar_color": null,
       "description_width": ""
      }
     },
     "c63bda933184481eba5f1d5931e0cb8d": {
      "model_module": "@jupyter-widgets/controls",
      "model_module_version": "1.5.0",
      "model_name": "HTMLModel",
      "state": {
       "_dom_classes": [],
       "_model_module": "@jupyter-widgets/controls",
       "_model_module_version": "1.5.0",
       "_model_name": "HTMLModel",
       "_view_count": null,
       "_view_module": "@jupyter-widgets/controls",
       "_view_module_version": "1.5.0",
       "_view_name": "HTMLView",
       "description": "",
       "description_tooltip": null,
       "layout": "IPY_MODEL_7ce69dac4e01421c93b301a7e47a0c37",
       "placeholder": "​",
       "style": "IPY_MODEL_0b133ec1f0b64c34941ab15b4c392389",
       "value": " 100/100 [00:25&lt;00:00,  4.04it/s]"
      }
     },
     "d2cd8046b0ed43c2800fa1a9f2b1ee05": {
      "model_module": "@jupyter-widgets/base",
      "model_module_version": "1.2.0",
      "model_name": "LayoutModel",
      "state": {
       "_model_module": "@jupyter-widgets/base",
       "_model_module_version": "1.2.0",
       "_model_name": "LayoutModel",
       "_view_count": null,
       "_view_module": "@jupyter-widgets/base",
       "_view_module_version": "1.2.0",
       "_view_name": "LayoutView",
       "align_content": null,
       "align_items": null,
       "align_self": null,
       "border": null,
       "bottom": null,
       "display": null,
       "flex": null,
       "flex_flow": null,
       "grid_area": null,
       "grid_auto_columns": null,
       "grid_auto_flow": null,
       "grid_auto_rows": null,
       "grid_column": null,
       "grid_gap": null,
       "grid_row": null,
       "grid_template_areas": null,
       "grid_template_columns": null,
       "grid_template_rows": null,
       "height": null,
       "justify_content": null,
       "justify_items": null,
       "left": null,
       "margin": null,
       "max_height": null,
       "max_width": null,
       "min_height": null,
       "min_width": null,
       "object_fit": null,
       "object_position": null,
       "order": null,
       "overflow": null,
       "overflow_x": null,
       "overflow_y": null,
       "padding": null,
       "right": null,
       "top": null,
       "visibility": null,
       "width": null
      }
     },
     "d899195d2fac4d6cabe49af382cb07f8": {
      "model_module": "@jupyter-widgets/controls",
      "model_module_version": "1.5.0",
      "model_name": "HTMLModel",
      "state": {
       "_dom_classes": [],
       "_model_module": "@jupyter-widgets/controls",
       "_model_module_version": "1.5.0",
       "_model_name": "HTMLModel",
       "_view_count": null,
       "_view_module": "@jupyter-widgets/controls",
       "_view_module_version": "1.5.0",
       "_view_name": "HTMLView",
       "description": "",
       "description_tooltip": null,
       "layout": "IPY_MODEL_a148bac1f78a4da8b1ec3273ca445c8a",
       "placeholder": "​",
       "style": "IPY_MODEL_023c22f255f04b6f964859ffba9ffd17",
       "value": "100%"
      }
     },
     "de057ce243fb44d5926b53be07ade08c": {
      "model_module": "@jupyter-widgets/base",
      "model_module_version": "1.2.0",
      "model_name": "LayoutModel",
      "state": {
       "_model_module": "@jupyter-widgets/base",
       "_model_module_version": "1.2.0",
       "_model_name": "LayoutModel",
       "_view_count": null,
       "_view_module": "@jupyter-widgets/base",
       "_view_module_version": "1.2.0",
       "_view_name": "LayoutView",
       "align_content": null,
       "align_items": null,
       "align_self": null,
       "border": null,
       "bottom": null,
       "display": null,
       "flex": null,
       "flex_flow": null,
       "grid_area": null,
       "grid_auto_columns": null,
       "grid_auto_flow": null,
       "grid_auto_rows": null,
       "grid_column": null,
       "grid_gap": null,
       "grid_row": null,
       "grid_template_areas": null,
       "grid_template_columns": null,
       "grid_template_rows": null,
       "height": null,
       "justify_content": null,
       "justify_items": null,
       "left": null,
       "margin": null,
       "max_height": null,
       "max_width": null,
       "min_height": null,
       "min_width": null,
       "object_fit": null,
       "object_position": null,
       "order": null,
       "overflow": null,
       "overflow_x": null,
       "overflow_y": null,
       "padding": null,
       "right": null,
       "top": null,
       "visibility": null,
       "width": null
      }
     },
     "edec2e5cf5d94005ae1c0501439c11c2": {
      "model_module": "@jupyter-widgets/base",
      "model_module_version": "1.2.0",
      "model_name": "LayoutModel",
      "state": {
       "_model_module": "@jupyter-widgets/base",
       "_model_module_version": "1.2.0",
       "_model_name": "LayoutModel",
       "_view_count": null,
       "_view_module": "@jupyter-widgets/base",
       "_view_module_version": "1.2.0",
       "_view_name": "LayoutView",
       "align_content": null,
       "align_items": null,
       "align_self": null,
       "border": null,
       "bottom": null,
       "display": null,
       "flex": null,
       "flex_flow": null,
       "grid_area": null,
       "grid_auto_columns": null,
       "grid_auto_flow": null,
       "grid_auto_rows": null,
       "grid_column": null,
       "grid_gap": null,
       "grid_row": null,
       "grid_template_areas": null,
       "grid_template_columns": null,
       "grid_template_rows": null,
       "height": null,
       "justify_content": null,
       "justify_items": null,
       "left": null,
       "margin": null,
       "max_height": null,
       "max_width": null,
       "min_height": null,
       "min_width": null,
       "object_fit": null,
       "object_position": null,
       "order": null,
       "overflow": null,
       "overflow_x": null,
       "overflow_y": null,
       "padding": null,
       "right": null,
       "top": null,
       "visibility": null,
       "width": null
      }
     },
     "ef7f49170e4542978bfc76f84eb13e4b": {
      "model_module": "@jupyter-widgets/controls",
      "model_module_version": "1.5.0",
      "model_name": "FloatProgressModel",
      "state": {
       "_dom_classes": [],
       "_model_module": "@jupyter-widgets/controls",
       "_model_module_version": "1.5.0",
       "_model_name": "FloatProgressModel",
       "_view_count": null,
       "_view_module": "@jupyter-widgets/controls",
       "_view_module_version": "1.5.0",
       "_view_name": "ProgressView",
       "bar_style": "success",
       "description": "",
       "description_tooltip": null,
       "layout": "IPY_MODEL_de057ce243fb44d5926b53be07ade08c",
       "max": 100.0,
       "min": 0.0,
       "orientation": "horizontal",
       "style": "IPY_MODEL_4a03f298385d4cf3a1488f2f6c392063",
       "value": 100.0
      }
     }
    },
    "version_major": 2,
    "version_minor": 0
   }
  }
 },
 "nbformat": 4,
 "nbformat_minor": 5
}
