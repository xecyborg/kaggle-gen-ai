{
 "cells": [
  {
   "cell_type": "markdown",
   "id": "3bca36ad",
   "metadata": {
    "id": "b6e13eef3f5d",
    "papermill": {
     "duration": 0.013984,
     "end_time": "2024-11-14T01:34:53.047851",
     "exception": false,
     "start_time": "2024-11-14T01:34:53.033867",
     "status": "completed"
    },
    "tags": []
   },
   "source": [
    "##### Copyright 2024 Google LLC."
   ]
  },
  {
   "cell_type": "code",
   "execution_count": 1,
   "id": "7696b248",
   "metadata": {
    "cellView": "form",
    "execution": {
     "iopub.execute_input": "2024-11-14T01:34:53.076877Z",
     "iopub.status.busy": "2024-11-14T01:34:53.076325Z",
     "iopub.status.idle": "2024-11-14T01:34:53.083789Z",
     "shell.execute_reply": "2024-11-14T01:34:53.082383Z"
    },
    "id": "d6597b11df14",
    "jupyter": {
     "source_hidden": true
    },
    "papermill": {
     "duration": 0.025193,
     "end_time": "2024-11-14T01:34:53.086637",
     "exception": false,
     "start_time": "2024-11-14T01:34:53.061444",
     "status": "completed"
    },
    "tags": []
   },
   "outputs": [],
   "source": [
    "# @title Licensed under the Apache License, Version 2.0 (the \"License\");\n",
    "# you may not use this file except in compliance with the License.\n",
    "# You may obtain a copy of the License at\n",
    "#\n",
    "# https://www.apache.org/licenses/LICENSE-2.0\n",
    "#\n",
    "# Unless required by applicable law or agreed to in writing, software\n",
    "# distributed under the License is distributed on an \"AS IS\" BASIS,\n",
    "# WITHOUT WARRANTIES OR CONDITIONS OF ANY KIND, either express or implied.\n",
    "# See the License for the specific language governing permissions and\n",
    "# limitations under the License."
   ]
  },
  {
   "cell_type": "markdown",
   "id": "881b9bda",
   "metadata": {
    "id": "4KDIFPAL2EnL",
    "papermill": {
     "duration": 0.014758,
     "end_time": "2024-11-14T01:34:53.116357",
     "exception": false,
     "start_time": "2024-11-14T01:34:53.101599",
     "status": "completed"
    },
    "tags": []
   },
   "source": [
    "# Day 4 - Fine tuning a custom model\n",
    "\n",
    "Welcome back to the Kaggle 5-day Generative AI course!\n",
    "\n",
    "In this notebook you will use the Gemini API to fine-tune a custom, task-specific model. Fine-tuning can be used for a variety of tasks from classic NLP problems like entity extraction or summarisation, to creative tasks like stylised generation. You will fine-tune a model to classify the category a piece of text (a newsgroup post) into the category it belongs to (the newsgroup name).\n",
    "\n",
    "This codelab walks you tuning a model with the API. [AI Studio](https://aistudio.google.com/app/tune) also supports creating new tuned models directly in the web UI, allowing you to quickly create and monitor models using data from Google Sheets, Drive or your own files."
   ]
  },
  {
   "cell_type": "code",
   "execution_count": 2,
   "id": "fb1b41c1",
   "metadata": {
    "execution": {
     "iopub.execute_input": "2024-11-14T01:34:53.144507Z",
     "iopub.status.busy": "2024-11-14T01:34:53.144095Z",
     "iopub.status.idle": "2024-11-14T01:35:37.229802Z",
     "shell.execute_reply": "2024-11-14T01:35:37.228055Z"
    },
    "id": "9wafTyEH1_xF",
    "papermill": {
     "duration": 44.11605,
     "end_time": "2024-11-14T01:35:37.245580",
     "exception": false,
     "start_time": "2024-11-14T01:34:53.129530",
     "status": "completed"
    },
    "tags": []
   },
   "outputs": [
    {
     "name": "stdout",
     "output_type": "stream",
     "text": [
      "Note: you may need to restart the kernel to use updated packages.\n"
     ]
    }
   ],
   "source": [
    "%pip install -U -q 'google-generativeai>=0.8.3'"
   ]
  },
  {
   "cell_type": "code",
   "execution_count": 3,
   "id": "e30bf9e5",
   "metadata": {
    "execution": {
     "iopub.execute_input": "2024-11-14T01:35:37.278676Z",
     "iopub.status.busy": "2024-11-14T01:35:37.277927Z",
     "iopub.status.idle": "2024-11-14T01:35:38.911197Z",
     "shell.execute_reply": "2024-11-14T01:35:38.909783Z"
    },
    "id": "T0CBG9xL2PvT",
    "papermill": {
     "duration": 1.654875,
     "end_time": "2024-11-14T01:35:38.914286",
     "exception": false,
     "start_time": "2024-11-14T01:35:37.259411",
     "status": "completed"
    },
    "tags": []
   },
   "outputs": [],
   "source": [
    "import google.generativeai as genai"
   ]
  },
  {
   "cell_type": "markdown",
   "id": "c21181a6",
   "metadata": {
    "id": "P4bYX2T72ScK",
    "papermill": {
     "duration": 0.014596,
     "end_time": "2024-11-14T01:35:38.942887",
     "exception": false,
     "start_time": "2024-11-14T01:35:38.928291",
     "status": "completed"
    },
    "tags": []
   },
   "source": [
    "### Set up your API key\n",
    "\n",
    "To run the following cell, your API key must be stored it in a [Kaggle secret](https://www.kaggle.com/discussions/product-feedback/114053) named `GOOGLE_API_KEY`.\n",
    "\n",
    "If you don't already have an API key, you can grab one from [AI Studio](https://aistudio.google.com/app/apikey). You can find [detailed instructions in the docs](https://ai.google.dev/gemini-api/docs/api-key).\n",
    "\n",
    "To make the key available through Kaggle secrets, choose `Secrets` from the `Add-ons` menu and follow the instructions to add your key or enable it for this notebook."
   ]
  },
  {
   "cell_type": "code",
   "execution_count": 4,
   "id": "e84e9a77",
   "metadata": {
    "execution": {
     "iopub.execute_input": "2024-11-14T01:35:38.973263Z",
     "iopub.status.busy": "2024-11-14T01:35:38.972346Z",
     "iopub.status.idle": "2024-11-14T01:35:39.087344Z",
     "shell.execute_reply": "2024-11-14T01:35:39.085700Z"
    },
    "id": "VuJPY3GK2SLZ",
    "papermill": {
     "duration": 0.134175,
     "end_time": "2024-11-14T01:35:39.090752",
     "exception": false,
     "start_time": "2024-11-14T01:35:38.956577",
     "status": "completed"
    },
    "tags": []
   },
   "outputs": [],
   "source": [
    "from kaggle_secrets import UserSecretsClient\n",
    "\n",
    "GOOGLE_API_KEY = UserSecretsClient().get_secret(\"GOOGLE_API_KEY\")\n",
    "genai.configure(api_key=GOOGLE_API_KEY)"
   ]
  },
  {
   "attachments": {
    "53e1d527-de81-497e-bfac-58df458e750b.png": {
     "image/png": "[encoded data removed]"
    }
   },
   "cell_type": "markdown",
   "id": "d27e70b8",
   "metadata": {
    "id": "25b2127c2052",
    "papermill": {
     "duration": 0.014975,
     "end_time": "2024-11-14T01:35:39.119557",
     "exception": false,
     "start_time": "2024-11-14T01:35:39.104582",
     "status": "completed"
    },
    "tags": []
   },
   "source": [
    "If you received an error response along the lines of `No user secrets exist for kernel id ...`, then you need to add your API key via `Add-ons`, `Secrets` **and** enable it.\n",
    "\n",
    "![Screenshot of the checkbox to enable GOOGLE_API_KEY secret](https://storage.googleapis.com/kaggle-media/Images/5gdai_sc_3.png)"
   ]
  },
  {
   "cell_type": "markdown",
   "id": "268c46eb",
   "metadata": {
    "id": "CqVA5QFO6n4z",
    "papermill": {
     "duration": 0.013161,
     "end_time": "2024-11-14T01:35:39.146607",
     "exception": false,
     "start_time": "2024-11-14T01:35:39.133446",
     "status": "completed"
    },
    "tags": []
   },
   "source": [
    "### Explore available models\n",
    "\n",
    "You will be using the [`TunedModel.create`](https://ai.google.dev/api/tuning#method:-tunedmodels.create) API method to start the fine-tuning job and create your custom model. Find a model that supports it through the [`models.list`](https://ai.google.dev/api/models#method:-models.list) endpoint. You can also find more information about tuning models in [the model tuning docs](https://ai.google.dev/gemini-api/docs/model-tuning/tutorial?lang=python)."
   ]
  },
  {
   "cell_type": "code",
   "execution_count": 5,
   "id": "35dc721d",
   "metadata": {
    "execution": {
     "iopub.execute_input": "2024-11-14T01:35:39.175593Z",
     "iopub.status.busy": "2024-11-14T01:35:39.175119Z",
     "iopub.status.idle": "2024-11-14T01:35:39.345287Z",
     "shell.execute_reply": "2024-11-14T01:35:39.344073Z"
    },
    "id": "coEacWAB6o0G",
    "papermill": {
     "duration": 0.188668,
     "end_time": "2024-11-14T01:35:39.348624",
     "exception": false,
     "start_time": "2024-11-14T01:35:39.159956",
     "status": "completed"
    },
    "tags": []
   },
   "outputs": [
    {
     "name": "stdout",
     "output_type": "stream",
     "text": [
      "models/gemini-1.0-pro-001\n",
      "models/gemini-1.5-flash-001-tuning\n"
     ]
    }
   ],
   "source": [
    "for model in genai.list_models():\n",
    "    if \"createTunedModel\" in model.supported_generation_methods:\n",
    "        print(model.name)"
   ]
  },
  {
   "cell_type": "markdown",
   "id": "b40bf784",
   "metadata": {
    "id": "peFm0w_0c1CO",
    "papermill": {
     "duration": 0.014394,
     "end_time": "2024-11-14T01:35:39.376339",
     "exception": false,
     "start_time": "2024-11-14T01:35:39.361945",
     "status": "completed"
    },
    "tags": []
   },
   "source": [
    "## Download the dataset\n",
    "\n",
    "In this activity, you will use the same newsgroups dataset that you used to train a classifier in Keras. In this example you will use a fine-tuned Gemini model to achieve the same goal.\n",
    "\n",
    "The [20 Newsgroups Text Dataset](https://scikit-learn.org/0.19/datasets/twenty_newsgroups.html) contains 18,000 newsgroups posts on 20 topics divided into training and test sets."
   ]
  },
  {
   "cell_type": "code",
   "execution_count": 6,
   "id": "a8cefbf6",
   "metadata": {
    "execution": {
     "iopub.execute_input": "2024-11-14T01:35:39.406271Z",
     "iopub.status.busy": "2024-11-14T01:35:39.405431Z",
     "iopub.status.idle": "2024-11-14T01:35:53.748748Z",
     "shell.execute_reply": "2024-11-14T01:35:53.747315Z"
    },
    "id": "bX_kpgnQ9b-Z",
    "papermill": {
     "duration": 14.361732,
     "end_time": "2024-11-14T01:35:53.751967",
     "exception": false,
     "start_time": "2024-11-14T01:35:39.390235",
     "status": "completed"
    },
    "tags": []
   },
   "outputs": [
    {
     "data": {
      "text/plain": [
       "['alt.atheism',\n",
       " 'comp.graphics',\n",
       " 'comp.os.ms-windows.misc',\n",
       " 'comp.sys.ibm.pc.hardware',\n",
       " 'comp.sys.mac.hardware',\n",
       " 'comp.windows.x',\n",
       " 'misc.forsale',\n",
       " 'rec.autos',\n",
       " 'rec.motorcycles',\n",
       " 'rec.sport.baseball',\n",
       " 'rec.sport.hockey',\n",
       " 'sci.crypt',\n",
       " 'sci.electronics',\n",
       " 'sci.med',\n",
       " 'sci.space',\n",
       " 'soc.religion.christian',\n",
       " 'talk.politics.guns',\n",
       " 'talk.politics.mideast',\n",
       " 'talk.politics.misc',\n",
       " 'talk.religion.misc']"
      ]
     },
     "execution_count": 6,
     "metadata": {},
     "output_type": "execute_result"
    }
   ],
   "source": [
    "from sklearn.datasets import fetch_20newsgroups\n",
    "\n",
    "newsgroups_train = fetch_20newsgroups(subset=\"train\")\n",
    "newsgroups_test = fetch_20newsgroups(subset=\"test\")\n",
    "\n",
    "# View list of class names for dataset\n",
    "newsgroups_train.target_names"
   ]
  },
  {
   "cell_type": "markdown",
   "id": "8247ca52",
   "metadata": {
    "id": "ipafe6ptZFjt",
    "papermill": {
     "duration": 0.014002,
     "end_time": "2024-11-14T01:35:53.779543",
     "exception": false,
     "start_time": "2024-11-14T01:35:53.765541",
     "status": "completed"
    },
    "tags": []
   },
   "source": [
    "Here's what a single row looks like."
   ]
  },
  {
   "cell_type": "code",
   "execution_count": 7,
   "id": "0fb94b8c",
   "metadata": {
    "execution": {
     "iopub.execute_input": "2024-11-14T01:35:53.808560Z",
     "iopub.status.busy": "2024-11-14T01:35:53.808110Z",
     "iopub.status.idle": "2024-11-14T01:35:53.815138Z",
     "shell.execute_reply": "2024-11-14T01:35:53.813574Z"
    },
    "id": "EtEXcdT39hCB",
    "papermill": {
     "duration": 0.024768,
     "end_time": "2024-11-14T01:35:53.817819",
     "exception": false,
     "start_time": "2024-11-14T01:35:53.793051",
     "status": "completed"
    },
    "tags": []
   },
   "outputs": [
    {
     "name": "stdout",
     "output_type": "stream",
     "text": [
      "From: lerxst@wam.umd.edu (where's my thing)\n",
      "Subject: WHAT car is this!?\n",
      "Nntp-Posting-Host: rac3.wam.umd.edu\n",
      "Organization: University of Maryland, College Park\n",
      "Lines: 15\n",
      "\n",
      " I was wondering if anyone out there could enlighten me on this car I saw\n",
      "the other day. It was a 2-door sports car, looked to be from the late 60s/\n",
      "early 70s. It was called a Bricklin. The doors were really small. In addition,\n",
      "the front bumper was separate from the rest of the body. This is \n",
      "all I know. If anyone can tellme a model name, engine specs, years\n",
      "of production, where this car is made, history, or whatever info you\n",
      "have on this funky looking car, please e-mail.\n",
      "\n",
      "Thanks,\n",
      "- IL\n",
      "   ---- brought to you by your neighborhood Lerxst ----\n",
      "\n",
      "\n",
      "\n",
      "\n",
      "\n"
     ]
    }
   ],
   "source": [
    "print(newsgroups_train.data[0])"
   ]
  },
  {
   "cell_type": "markdown",
   "id": "88e76a68",
   "metadata": {
    "id": "03lDs1O4ZQ0-",
    "papermill": {
     "duration": 0.01395,
     "end_time": "2024-11-14T01:35:53.845416",
     "exception": false,
     "start_time": "2024-11-14T01:35:53.831466",
     "status": "completed"
    },
    "tags": []
   },
   "source": [
    "## Prepare the dataset\n",
    "\n",
    "You'll use the same pre-processing code you used for the custom model on day 2. This pre-processing removes personal information, which can be used to \"shortcut\" to known users of a forum, and formats the text to appear a bit more like regular text and less like a newsgroup post (e.g. by removing the mail headers). This normalisation allows the model to generalise to regular text and not over-depend on specific fields. If your input data is always going to be newsgroup posts, it may be helpful to leave this structure in place if they provide genuine signals."
   ]
  },
  {
   "cell_type": "code",
   "execution_count": 8,
   "id": "a42fa34a",
   "metadata": {
    "execution": {
     "iopub.execute_input": "2024-11-14T01:35:53.875299Z",
     "iopub.status.busy": "2024-11-14T01:35:53.874829Z",
     "iopub.status.idle": "2024-11-14T01:35:55.094393Z",
     "shell.execute_reply": "2024-11-14T01:35:55.092928Z"
    },
    "id": "IoNYTxpoZgB0",
    "papermill": {
     "duration": 1.238166,
     "end_time": "2024-11-14T01:35:55.097563",
     "exception": false,
     "start_time": "2024-11-14T01:35:53.859397",
     "status": "completed"
    },
    "tags": []
   },
   "outputs": [],
   "source": [
    "import email\n",
    "import re\n",
    "\n",
    "import pandas as pd\n",
    "\n",
    "\n",
    "def preprocess_newsgroup_row(data):\n",
    "    # Extract only the subject and body\n",
    "    msg = email.message_from_string(data)\n",
    "    text = f\"{msg['Subject']}\\n\\n{msg.get_payload()}\"\n",
    "    # Strip any remaining email addresses\n",
    "    text = re.sub(r\"[\\w\\.-]+@[\\w\\.-]+\", \"\", text)\n",
    "    # Truncate the text to fit within the input limits\n",
    "    text = text[:40000]\n",
    "\n",
    "    return text\n",
    "\n",
    "\n",
    "def preprocess_newsgroup_data(newsgroup_dataset):\n",
    "    # Put data points into dataframe\n",
    "    df = pd.DataFrame(\n",
    "        {\"Text\": newsgroup_dataset.data, \"Label\": newsgroup_dataset.target}\n",
    "    )\n",
    "    # Clean up the text\n",
    "    df[\"Text\"] = df[\"Text\"].apply(preprocess_newsgroup_row)\n",
    "    # Match label to target name index\n",
    "    df[\"Class Name\"] = df[\"Label\"].map(lambda l: newsgroup_dataset.target_names[l])\n",
    "\n",
    "    return df"
   ]
  },
  {
   "cell_type": "code",
   "execution_count": 9,
   "id": "ae766237",
   "metadata": {
    "execution": {
     "iopub.execute_input": "2024-11-14T01:35:55.127518Z",
     "iopub.status.busy": "2024-11-14T01:35:55.126848Z",
     "iopub.status.idle": "2024-11-14T01:36:01.938960Z",
     "shell.execute_reply": "2024-11-14T01:36:01.937704Z"
    },
    "id": "kvOsUSRWaW4g",
    "papermill": {
     "duration": 6.830364,
     "end_time": "2024-11-14T01:36:01.941745",
     "exception": false,
     "start_time": "2024-11-14T01:35:55.111381",
     "status": "completed"
    },
    "tags": []
   },
   "outputs": [
    {
     "data": {
      "text/html": [
       "<div>\n",
       "<style scoped>\n",
       "    .dataframe tbody tr th:only-of-type {\n",
       "        vertical-align: middle;\n",
       "    }\n",
       "\n",
       "    .dataframe tbody tr th {\n",
       "        vertical-align: top;\n",
       "    }\n",
       "\n",
       "    .dataframe thead th {\n",
       "        text-align: right;\n",
       "    }\n",
       "</style>\n",
       "<table border=\"1\" class=\"dataframe\">\n",
       "  <thead>\n",
       "    <tr style=\"text-align: right;\">\n",
       "      <th></th>\n",
       "      <th>Text</th>\n",
       "      <th>Label</th>\n",
       "      <th>Class Name</th>\n",
       "    </tr>\n",
       "  </thead>\n",
       "  <tbody>\n",
       "    <tr>\n",
       "      <th>0</th>\n",
       "      <td>WHAT car is this!?\\n\\n I was wondering if anyo...</td>\n",
       "      <td>7</td>\n",
       "      <td>rec.autos</td>\n",
       "    </tr>\n",
       "    <tr>\n",
       "      <th>1</th>\n",
       "      <td>SI Clock Poll - Final Call\\n\\nA fair number of...</td>\n",
       "      <td>4</td>\n",
       "      <td>comp.sys.mac.hardware</td>\n",
       "    </tr>\n",
       "    <tr>\n",
       "      <th>2</th>\n",
       "      <td>PB questions...\\n\\nwell folks, my mac plus fin...</td>\n",
       "      <td>4</td>\n",
       "      <td>comp.sys.mac.hardware</td>\n",
       "    </tr>\n",
       "    <tr>\n",
       "      <th>3</th>\n",
       "      <td>Re: Weitek P9000 ?\\n\\nRobert J.C. Kyanko () wr...</td>\n",
       "      <td>1</td>\n",
       "      <td>comp.graphics</td>\n",
       "    </tr>\n",
       "    <tr>\n",
       "      <th>4</th>\n",
       "      <td>Re: Shuttle Launch Question\\n\\nFrom article &lt;&gt;...</td>\n",
       "      <td>14</td>\n",
       "      <td>sci.space</td>\n",
       "    </tr>\n",
       "  </tbody>\n",
       "</table>\n",
       "</div>"
      ],
      "text/plain": [
       "                                                Text  Label  \\\n",
       "0  WHAT car is this!?\\n\\n I was wondering if anyo...      7   \n",
       "1  SI Clock Poll - Final Call\\n\\nA fair number of...      4   \n",
       "2  PB questions...\\n\\nwell folks, my mac plus fin...      4   \n",
       "3  Re: Weitek P9000 ?\\n\\nRobert J.C. Kyanko () wr...      1   \n",
       "4  Re: Shuttle Launch Question\\n\\nFrom article <>...     14   \n",
       "\n",
       "              Class Name  \n",
       "0              rec.autos  \n",
       "1  comp.sys.mac.hardware  \n",
       "2  comp.sys.mac.hardware  \n",
       "3          comp.graphics  \n",
       "4              sci.space  "
      ]
     },
     "execution_count": 9,
     "metadata": {},
     "output_type": "execute_result"
    }
   ],
   "source": [
    "# Apply preprocessing to training and test datasets\n",
    "df_train = preprocess_newsgroup_data(newsgroups_train)\n",
    "df_test = preprocess_newsgroup_data(newsgroups_test)\n",
    "\n",
    "df_train.head()"
   ]
  },
  {
   "cell_type": "markdown",
   "id": "63ce45fe",
   "metadata": {
    "id": "XSKcj5WtadaR",
    "papermill": {
     "duration": 0.014304,
     "end_time": "2024-11-14T01:36:01.970034",
     "exception": false,
     "start_time": "2024-11-14T01:36:01.955730",
     "status": "completed"
    },
    "tags": []
   },
   "source": [
    "Now sample the data. You will keep 50 rows for each category for training. Note that this is even fewer than the Keras example, as this technique (parameter-efficient fine-tuning, or PEFT) updates a relatively small number of parameters and does not require training a new model or updating the large model."
   ]
  },
  {
   "cell_type": "code",
   "execution_count": 10,
   "id": "4458e1e5",
   "metadata": {
    "execution": {
     "iopub.execute_input": "2024-11-14T01:36:02.001783Z",
     "iopub.status.busy": "2024-11-14T01:36:02.001264Z",
     "iopub.status.idle": "2024-11-14T01:36:02.064401Z",
     "shell.execute_reply": "2024-11-14T01:36:02.062998Z"
    },
    "id": "0t9Xu6X5akkt",
    "papermill": {
     "duration": 0.082439,
     "end_time": "2024-11-14T01:36:02.067408",
     "exception": false,
     "start_time": "2024-11-14T01:36:01.984969",
     "status": "completed"
    },
    "tags": []
   },
   "outputs": [],
   "source": [
    "def sample_data(df, num_samples, classes_to_keep):\n",
    "    # Sample rows, selecting num_samples of each Label.\n",
    "    df = (\n",
    "        df.groupby(\"Label\")[df.columns]\n",
    "        .apply(lambda x: x.sample(num_samples))\n",
    "        .reset_index(drop=True)\n",
    "    )\n",
    "\n",
    "    df = df[df[\"Class Name\"].str.contains(classes_to_keep)]\n",
    "    df[\"Class Name\"] = df[\"Class Name\"].astype(\"category\")\n",
    "\n",
    "    return df\n",
    "\n",
    "\n",
    "TRAIN_NUM_SAMPLES = 50\n",
    "TEST_NUM_SAMPLES = 10\n",
    "# Keep rec.* and sci.*\n",
    "CLASSES_TO_KEEP = \"^rec|^sci\"\n",
    "\n",
    "df_train = sample_data(df_train, TRAIN_NUM_SAMPLES, CLASSES_TO_KEEP)\n",
    "df_test = sample_data(df_test, TEST_NUM_SAMPLES, CLASSES_TO_KEEP)"
   ]
  },
  {
   "cell_type": "markdown",
   "id": "0778261a",
   "metadata": {
    "papermill": {
     "duration": 0.016649,
     "end_time": "2024-11-14T01:36:02.098479",
     "exception": false,
     "start_time": "2024-11-14T01:36:02.081830",
     "status": "completed"
    },
    "tags": []
   },
   "source": [
    "## Evaluate baseline performance\n",
    "\n",
    "Before you start tuning a model, it's good practice to perform an evaluation on the available models to ensure you can measure how much the tuning helps.\n",
    "\n",
    "First identify a single sample row to use for visual inspection."
   ]
  },
  {
   "cell_type": "code",
   "execution_count": 11,
   "id": "b40f4142",
   "metadata": {
    "execution": {
     "iopub.execute_input": "2024-11-14T01:36:02.129642Z",
     "iopub.status.busy": "2024-11-14T01:36:02.129206Z",
     "iopub.status.idle": "2024-11-14T01:36:02.137590Z",
     "shell.execute_reply": "2024-11-14T01:36:02.135969Z"
    },
    "papermill": {
     "duration": 0.02778,
     "end_time": "2024-11-14T01:36:02.140895",
     "exception": false,
     "start_time": "2024-11-14T01:36:02.113115",
     "status": "completed"
    },
    "tags": []
   },
   "outputs": [
    {
     "name": "stdout",
     "output_type": "stream",
     "text": [
      "Need info on 88-89 Bonneville\n",
      "\n",
      "\n",
      " I am a little confused on all of the models of the 88-89 bonnevilles.\n",
      "I have heard of the LE SE LSE SSE SSEI. Could someone tell me the\n",
      "differences are far as features or performance. I am also curious to\n",
      "know what the book value is for prefereably the 89 model. And how much\n",
      "less than book value can you usually get them for. In other words how\n",
      "much are they in demand this time of year. I have heard that the mid-spring\n",
      "early summer is the best time to buy.\n",
      "\n",
      "\t\t\tNeil Gandler\n",
      "\n",
      "---\n",
      "Label: rec.autos\n"
     ]
    }
   ],
   "source": [
    "sample_idx = 0\n",
    "sample_row = preprocess_newsgroup_row(newsgroups_test.data[sample_idx])\n",
    "sample_label = newsgroups_test.target_names[newsgroups_test.target[sample_idx]]\n",
    "\n",
    "print(sample_row)\n",
    "print('---')\n",
    "print('Label:', sample_label)"
   ]
  },
  {
   "cell_type": "markdown",
   "id": "2ee5dbd3",
   "metadata": {
    "papermill": {
     "duration": 0.014606,
     "end_time": "2024-11-14T01:36:02.170435",
     "exception": false,
     "start_time": "2024-11-14T01:36:02.155829",
     "status": "completed"
    },
    "tags": []
   },
   "source": [
    "Passing the text directly in as a prompt does not yield the desired results. The model will attempt to respond to the message."
   ]
  },
  {
   "cell_type": "code",
   "execution_count": 12,
   "id": "c06181ac",
   "metadata": {
    "execution": {
     "iopub.execute_input": "2024-11-14T01:36:02.202628Z",
     "iopub.status.busy": "2024-11-14T01:36:02.201279Z",
     "iopub.status.idle": "2024-11-14T01:36:05.409233Z",
     "shell.execute_reply": "2024-11-14T01:36:05.407909Z"
    },
    "papermill": {
     "duration": 3.227787,
     "end_time": "2024-11-14T01:36:05.412723",
     "exception": false,
     "start_time": "2024-11-14T01:36:02.184936",
     "status": "completed"
    },
    "tags": []
   },
   "outputs": [
    {
     "name": "stdout",
     "output_type": "stream",
     "text": [
      "You're right, the 88-89 Bonneville model years were a bit of a naming jungle. Here's a breakdown to help you navigate:\n",
      "\n",
      "**The Bonneville Lineup (1988-1989)**\n",
      "\n",
      "* **Base Bonneville:** The standard model, usually offered in various trim levels like \"Custom\" or \"Luxury\" editions. \n",
      "* **LE (Luxury Edition):**  A step up in luxury, offering more features like power accessories, nicer interior materials, and possibly even a sunroof.\n",
      "* **SE (Sport Edition):**  Focused on sporty handling and aesthetics, featuring features like a firmer suspension, sport-tuned steering, and a more aggressive exterior appearance. \n",
      "* **LSE (Luxury Sport Edition):** This model combined the luxury features of the LE with the sporty performance of the SE.  It was often seen as the \"sweet spot\" of the lineup.\n",
      "* **SSE (Special Sport Edition):** The most performance-oriented Bonneville, featuring a more powerful engine, sportier handling, and unique exterior styling.  It was a relatively rare model. \n",
      "* **SSEi (Special Sport Edition, Injected):** This was the top-of-the-line Bonneville, essentially a SSE with a fuel-injected engine.  It was the quickest and most desirable Bonneville of the era.\n",
      "\n",
      "**Book Values and Demand**\n",
      "\n",
      "Unfortunately, getting a precise book value is tricky.  Factors like condition, mileage, and even location play a huge role. However, you can use these resources to get an idea:\n",
      "\n",
      "* **Kelley Blue Book (KBB):** [https://www.kbb.com/](https://www.kbb.com/)\n",
      "* **NADAguides:** [https://www.nadaguides.com/](https://www.nadaguides.com/)\n",
      "\n",
      "**Negotiating a Price**\n",
      "\n",
      "* **Mid-spring to early summer is indeed a good time to buy:** Dealerships are trying to clear inventory and buyers are looking for deals.\n",
      "* **Expect to negotiate:**  You should aim for a price between 10-20% below the KBB \"Private Party\" value, especially if the car needs any repairs or has higher mileage.\n",
      "\n",
      "**Key Considerations**\n",
      "\n",
      "* **Condition is crucial:**  While these cars were durable, older Bonnevilles can have wear and tear.  Look for rust, damage, and check the maintenance history. \n",
      "* **Engine and transmission:**  These cars typically had either a 3.8L V6 or a 5.0L V8. Both were known for their reliability, but ensure they've been well-maintained. \n",
      "* **Spare parts availability:**  Most parts are readily available, but some might require specialized sources or used parts. \n",
      "\n",
      "**Good luck with your Bonneville hunt!**  These cars can be great classic cruisers, especially the SSEi if you're looking for performance. Remember to do your research and negotiate a fair price. \n",
      "\n"
     ]
    }
   ],
   "source": [
    "baseline_model = genai.GenerativeModel(\"gemini-1.5-flash-001\")\n",
    "response = baseline_model.generate_content(sample_row)\n",
    "print(response.text)"
   ]
  },
  {
   "cell_type": "markdown",
   "id": "b0daa1cd",
   "metadata": {
    "papermill": {
     "duration": 0.01484,
     "end_time": "2024-11-14T01:36:05.442534",
     "exception": false,
     "start_time": "2024-11-14T01:36:05.427694",
     "status": "completed"
    },
    "tags": []
   },
   "source": [
    "You can use the prompt engineering techniques you have learned this week to induce the model to perform the desired task. Try some of your own ideas and see what is effective, or check out the following cells for different approaches. Note that they have different levels of effectiveness!"
   ]
  },
  {
   "cell_type": "code",
   "execution_count": 13,
   "id": "d89ab53c",
   "metadata": {
    "execution": {
     "iopub.execute_input": "2024-11-14T01:36:05.477761Z",
     "iopub.status.busy": "2024-11-14T01:36:05.477302Z",
     "iopub.status.idle": "2024-11-14T01:36:06.099730Z",
     "shell.execute_reply": "2024-11-14T01:36:06.098159Z"
    },
    "papermill": {
     "duration": 0.643193,
     "end_time": "2024-11-14T01:36:06.103081",
     "exception": false,
     "start_time": "2024-11-14T01:36:05.459888",
     "status": "completed"
    },
    "tags": []
   },
   "outputs": [
    {
     "name": "stdout",
     "output_type": "stream",
     "text": [
      "The message originates from the **alt.autos.pontiac** newsgroup, which is dedicated to discussions about Pontiac vehicles. \n",
      "\n",
      "This can be inferred from the message's content, which focuses on specific Pontiac models (Bonneville LE, SE, LSE, SSE, SSEI) and discusses their features, performance, and market value.  \n",
      "\n"
     ]
    }
   ],
   "source": [
    "# Ask the model directly in a zero-shot prompt.\n",
    "\n",
    "prompt = \"From what newsgroup does the following message originate?\"\n",
    "baseline_response = baseline_model.generate_content([prompt, sample_row])\n",
    "print(baseline_response.text)"
   ]
  },
  {
   "cell_type": "markdown",
   "id": "8200687e",
   "metadata": {
    "papermill": {
     "duration": 0.014727,
     "end_time": "2024-11-14T01:36:06.132523",
     "exception": false,
     "start_time": "2024-11-14T01:36:06.117796",
     "status": "completed"
    },
    "tags": []
   },
   "source": [
    "That technique produces quite a verbose response. You could try and pick out the relevant text, or refine the prompt even further."
   ]
  },
  {
   "cell_type": "code",
   "execution_count": 14,
   "id": "18bf8975",
   "metadata": {
    "execution": {
     "iopub.execute_input": "2024-11-14T01:36:06.166268Z",
     "iopub.status.busy": "2024-11-14T01:36:06.165776Z",
     "iopub.status.idle": "2024-11-14T01:36:06.511398Z",
     "shell.execute_reply": "2024-11-14T01:36:06.510022Z"
    },
    "papermill": {
     "duration": 0.366695,
     "end_time": "2024-11-14T01:36:06.514317",
     "exception": false,
     "start_time": "2024-11-14T01:36:06.147622",
     "status": "completed"
    },
    "tags": []
   },
   "outputs": [
    {
     "name": "stdout",
     "output_type": "stream",
     "text": [
      "rec.autos.misc\n",
      "\n",
      "Incorrect.\n"
     ]
    }
   ],
   "source": [
    "from google.api_core import retry\n",
    "\n",
    "# You can use a system instruction to do more direct prompting, and get a\n",
    "# more succinct answer.\n",
    "\n",
    "system_instruct = \"\"\"\n",
    "You are a classification service. You will be passed input that represents\n",
    "a newsgroup post and you must respond with the newsgroup from which the post\n",
    "originates.\n",
    "\"\"\"\n",
    "\n",
    "instructed_model = genai.GenerativeModel(\"gemini-1.5-flash-001\",\n",
    "                                         system_instruction=system_instruct)\n",
    "\n",
    "retry_policy = {\"retry\": retry.Retry(predicate=retry.if_transient_error)}\n",
    "\n",
    "# If you want to evaluate your own technique, replace this function with your\n",
    "# model, prompt and other code and return the predicted answer.\n",
    "def predict_label(post: str) -> str:\n",
    "    response = instructed_model.generate_content(sample_row, request_options=retry_policy)\n",
    "    # Clean up the response.\n",
    "    return response.text.strip()\n",
    "\n",
    "\n",
    "prediction = predict_label(sample_row)\n",
    "\n",
    "print(prediction)\n",
    "print()\n",
    "print(\"Correct!\" if prediction == sample_label else \"Incorrect.\")"
   ]
  },
  {
   "cell_type": "markdown",
   "id": "83af33aa",
   "metadata": {
    "papermill": {
     "duration": 0.014235,
     "end_time": "2024-11-14T01:36:06.543944",
     "exception": false,
     "start_time": "2024-11-14T01:36:06.529709",
     "status": "completed"
    },
    "tags": []
   },
   "source": [
    "Now run a short evaluation using the function defined above. The test set is further sampled to ensure the experiment runs smoothly on the API's free tier. In practice you would evaluate over the whole set."
   ]
  },
  {
   "cell_type": "code",
   "execution_count": 15,
   "id": "de0097bc",
   "metadata": {
    "execution": {
     "iopub.execute_input": "2024-11-14T01:36:06.575919Z",
     "iopub.status.busy": "2024-11-14T01:36:06.575379Z",
     "iopub.status.idle": "2024-11-14T01:37:02.031768Z",
     "shell.execute_reply": "2024-11-14T01:37:02.030455Z"
    },
    "papermill": {
     "duration": 55.475507,
     "end_time": "2024-11-14T01:37:02.034659",
     "exception": false,
     "start_time": "2024-11-14T01:36:06.559152",
     "status": "completed"
    },
    "tags": []
   },
   "outputs": [
    {
     "data": {
      "application/vnd.jupyter.widget-view+json": {
       "model_id": "2aa8b72981054873adaacf2c3f50224b",
       "version_major": 2,
       "version_minor": 0
      },
      "text/plain": [
       "Output()"
      ]
     },
     "metadata": {},
     "output_type": "display_data"
    },
    {
     "name": "stderr",
     "output_type": "stream",
     "text": [
      "/opt/conda/lib/python3.10/site-packages/tqdm/std.py:885: TqdmExperimentalWarning: rich is experimental/alpha\n",
      "  t = cls(total=total, **tqdm_kwargs)\n"
     ]
    },
    {
     "data": {
      "text/html": [
       "<pre style=\"white-space:pre;overflow-x:auto;line-height:normal;font-family:Menlo,'DejaVu Sans Mono',consolas,'Courier New',monospace\"></pre>\n"
      ],
      "text/plain": []
     },
     "metadata": {},
     "output_type": "display_data"
    },
    {
     "data": {
      "text/html": [
       "<pre style=\"white-space:pre;overflow-x:auto;line-height:normal;font-family:Menlo,'DejaVu Sans Mono',consolas,'Courier New',monospace\">\n",
       "</pre>\n"
      ],
      "text/plain": [
       "\n"
      ]
     },
     "metadata": {},
     "output_type": "display_data"
    },
    {
     "name": "stdout",
     "output_type": "stream",
     "text": [
      "Accuracy: 0.00%\n"
     ]
    }
   ],
   "source": [
    "from tqdm.rich import tqdm\n",
    "\n",
    "tqdm.pandas()\n",
    "\n",
    "\n",
    "# Further sample the test data to be mindful of the free-tier quota.\n",
    "df_baseline_eval = sample_data(df_test, 2, '.*')\n",
    "\n",
    "# Make predictions using the sampled data.\n",
    "df_baseline_eval['Prediction'] = df_baseline_eval['Text'].progress_apply(predict_label)\n",
    "\n",
    "# And calculate the accuracy.\n",
    "accuracy = (df_baseline_eval[\"Class Name\"] == df_baseline_eval[\"Prediction\"]).sum() / len(df_baseline_eval)\n",
    "print(f\"Accuracy: {accuracy:.2%}\")"
   ]
  },
  {
   "cell_type": "markdown",
   "id": "34470627",
   "metadata": {
    "papermill": {
     "duration": 0.021588,
     "end_time": "2024-11-14T01:37:02.076904",
     "exception": false,
     "start_time": "2024-11-14T01:37:02.055316",
     "status": "completed"
    },
    "tags": []
   },
   "source": [
    "Now take a look at the dataframe to compare the predictions with the labels."
   ]
  },
  {
   "cell_type": "code",
   "execution_count": 16,
   "id": "62c1fb62",
   "metadata": {
    "execution": {
     "iopub.execute_input": "2024-11-14T01:37:04.196049Z",
     "iopub.status.busy": "2024-11-14T01:37:04.195509Z",
     "iopub.status.idle": "2024-11-14T01:37:04.212372Z",
     "shell.execute_reply": "2024-11-14T01:37:04.210677Z"
    },
    "papermill": {
     "duration": 2.119331,
     "end_time": "2024-11-14T01:37:04.215178",
     "exception": false,
     "start_time": "2024-11-14T01:37:02.095847",
     "status": "completed"
    },
    "tags": []
   },
   "outputs": [
    {
     "data": {
      "text/html": [
       "<div>\n",
       "<style scoped>\n",
       "    .dataframe tbody tr th:only-of-type {\n",
       "        vertical-align: middle;\n",
       "    }\n",
       "\n",
       "    .dataframe tbody tr th {\n",
       "        vertical-align: top;\n",
       "    }\n",
       "\n",
       "    .dataframe thead th {\n",
       "        text-align: right;\n",
       "    }\n",
       "</style>\n",
       "<table border=\"1\" class=\"dataframe\">\n",
       "  <thead>\n",
       "    <tr style=\"text-align: right;\">\n",
       "      <th></th>\n",
       "      <th>Text</th>\n",
       "      <th>Label</th>\n",
       "      <th>Class Name</th>\n",
       "      <th>Prediction</th>\n",
       "    </tr>\n",
       "  </thead>\n",
       "  <tbody>\n",
       "    <tr>\n",
       "      <th>0</th>\n",
       "      <td>Re: comparing saabs &amp; bmw's\\n\\nIn article &lt;&gt;  ...</td>\n",
       "      <td>7</td>\n",
       "      <td>rec.autos</td>\n",
       "      <td>rec.autos.misc</td>\n",
       "    </tr>\n",
       "    <tr>\n",
       "      <th>1</th>\n",
       "      <td>Re: Questions about insurance companies (esp. ...</td>\n",
       "      <td>7</td>\n",
       "      <td>rec.autos</td>\n",
       "      <td>rec.autos.misc</td>\n",
       "    </tr>\n",
       "    <tr>\n",
       "      <th>2</th>\n",
       "      <td>Re: Shaft-drives and Wheelies\\n\\nIn article , ...</td>\n",
       "      <td>8</td>\n",
       "      <td>rec.motorcycles</td>\n",
       "      <td>rec.autos.misc</td>\n",
       "    </tr>\n",
       "    <tr>\n",
       "      <th>3</th>\n",
       "      <td>Re: DoD Pins...NOT!\\n\\nIn article &lt;&gt;  writes:\\...</td>\n",
       "      <td>8</td>\n",
       "      <td>rec.motorcycles</td>\n",
       "      <td>rec.autos.misc</td>\n",
       "    </tr>\n",
       "    <tr>\n",
       "      <th>4</th>\n",
       "      <td>CUB fever.\\n\\n (Orin Roth) writes:\\n&gt;   CUB fe...</td>\n",
       "      <td>9</td>\n",
       "      <td>rec.sport.baseball</td>\n",
       "      <td>rec.autos.misc</td>\n",
       "    </tr>\n",
       "    <tr>\n",
       "      <th>5</th>\n",
       "      <td>Yanks/Royals box score\\n\\n\\nI need the box sco...</td>\n",
       "      <td>9</td>\n",
       "      <td>rec.sport.baseball</td>\n",
       "      <td>rec.autos.misc</td>\n",
       "    </tr>\n",
       "    <tr>\n",
       "      <th>6</th>\n",
       "      <td>Don's nickname \"grapes\" (was Re: Don Cherry - ...</td>\n",
       "      <td>10</td>\n",
       "      <td>rec.sport.hockey</td>\n",
       "      <td>rec.autos.misc</td>\n",
       "    </tr>\n",
       "    <tr>\n",
       "      <th>7</th>\n",
       "      <td>Goalie mask poll update 4/21/93\\n\\nCurrent vot...</td>\n",
       "      <td>10</td>\n",
       "      <td>rec.sport.hockey</td>\n",
       "      <td>rec.autos.misc</td>\n",
       "    </tr>\n",
       "    <tr>\n",
       "      <th>8</th>\n",
       "      <td>Re: Suggestions for escrow agencies (was: Re: ...</td>\n",
       "      <td>11</td>\n",
       "      <td>sci.crypt</td>\n",
       "      <td>rec.autos.misc</td>\n",
       "    </tr>\n",
       "    <tr>\n",
       "      <th>9</th>\n",
       "      <td>Re: Once tapped, your code is no good any more...</td>\n",
       "      <td>11</td>\n",
       "      <td>sci.crypt</td>\n",
       "      <td>rec.autos.misc</td>\n",
       "    </tr>\n",
       "    <tr>\n",
       "      <th>10</th>\n",
       "      <td>Re: How to the disks copy protected.\\n\\n (Keti...</td>\n",
       "      <td>12</td>\n",
       "      <td>sci.electronics</td>\n",
       "      <td>rec.autos.misc</td>\n",
       "    </tr>\n",
       "    <tr>\n",
       "      <th>11</th>\n",
       "      <td>Re: FM Transmitter ICs- Help!!!!!\\n\\nIn articl...</td>\n",
       "      <td>12</td>\n",
       "      <td>sci.electronics</td>\n",
       "      <td>rec.autos.pontiac</td>\n",
       "    </tr>\n",
       "    <tr>\n",
       "      <th>12</th>\n",
       "      <td>Re: Krillean Photography\\n\\nFLAME ON\\n\\nReadin...</td>\n",
       "      <td>13</td>\n",
       "      <td>sci.med</td>\n",
       "      <td>rec.autos.misc</td>\n",
       "    </tr>\n",
       "    <tr>\n",
       "      <th>13</th>\n",
       "      <td>Re: Pregnency without sex?\\n\\nIn article &lt;&gt; \"G...</td>\n",
       "      <td>13</td>\n",
       "      <td>sci.med</td>\n",
       "      <td>rec.autos.misc</td>\n",
       "    </tr>\n",
       "    <tr>\n",
       "      <th>14</th>\n",
       "      <td>Re: New planet/Kuiper object found?\\n\\nJames N...</td>\n",
       "      <td>14</td>\n",
       "      <td>sci.space</td>\n",
       "      <td>rec.autos.misc</td>\n",
       "    </tr>\n",
       "    <tr>\n",
       "      <th>15</th>\n",
       "      <td>Re: Excess Shuttle criticism was Re: Shuttle 0...</td>\n",
       "      <td>14</td>\n",
       "      <td>sci.space</td>\n",
       "      <td>rec.autos.misc</td>\n",
       "    </tr>\n",
       "  </tbody>\n",
       "</table>\n",
       "</div>"
      ],
      "text/plain": [
       "                                                 Text  Label  \\\n",
       "0   Re: comparing saabs & bmw's\\n\\nIn article <>  ...      7   \n",
       "1   Re: Questions about insurance companies (esp. ...      7   \n",
       "2   Re: Shaft-drives and Wheelies\\n\\nIn article , ...      8   \n",
       "3   Re: DoD Pins...NOT!\\n\\nIn article <>  writes:\\...      8   \n",
       "4   CUB fever.\\n\\n (Orin Roth) writes:\\n>   CUB fe...      9   \n",
       "5   Yanks/Royals box score\\n\\n\\nI need the box sco...      9   \n",
       "6   Don's nickname \"grapes\" (was Re: Don Cherry - ...     10   \n",
       "7   Goalie mask poll update 4/21/93\\n\\nCurrent vot...     10   \n",
       "8   Re: Suggestions for escrow agencies (was: Re: ...     11   \n",
       "9   Re: Once tapped, your code is no good any more...     11   \n",
       "10  Re: How to the disks copy protected.\\n\\n (Keti...     12   \n",
       "11  Re: FM Transmitter ICs- Help!!!!!\\n\\nIn articl...     12   \n",
       "12  Re: Krillean Photography\\n\\nFLAME ON\\n\\nReadin...     13   \n",
       "13  Re: Pregnency without sex?\\n\\nIn article <> \"G...     13   \n",
       "14  Re: New planet/Kuiper object found?\\n\\nJames N...     14   \n",
       "15  Re: Excess Shuttle criticism was Re: Shuttle 0...     14   \n",
       "\n",
       "            Class Name         Prediction  \n",
       "0            rec.autos     rec.autos.misc  \n",
       "1            rec.autos     rec.autos.misc  \n",
       "2      rec.motorcycles     rec.autos.misc  \n",
       "3      rec.motorcycles     rec.autos.misc  \n",
       "4   rec.sport.baseball     rec.autos.misc  \n",
       "5   rec.sport.baseball     rec.autos.misc  \n",
       "6     rec.sport.hockey     rec.autos.misc  \n",
       "7     rec.sport.hockey     rec.autos.misc  \n",
       "8            sci.crypt     rec.autos.misc  \n",
       "9            sci.crypt     rec.autos.misc  \n",
       "10     sci.electronics     rec.autos.misc  \n",
       "11     sci.electronics  rec.autos.pontiac  \n",
       "12             sci.med     rec.autos.misc  \n",
       "13             sci.med     rec.autos.misc  \n",
       "14           sci.space     rec.autos.misc  \n",
       "15           sci.space     rec.autos.misc  "
      ]
     },
     "execution_count": 16,
     "metadata": {},
     "output_type": "execute_result"
    }
   ],
   "source": [
    "df_baseline_eval"
   ]
  },
  {
   "cell_type": "markdown",
   "id": "d03989e3",
   "metadata": {
    "id": "Ok7ugrLzcghX",
    "papermill": {
     "duration": 0.015366,
     "end_time": "2024-11-14T01:37:04.246917",
     "exception": false,
     "start_time": "2024-11-14T01:37:04.231551",
     "status": "completed"
    },
    "tags": []
   },
   "source": [
    "## Tune a custom model\n",
    "\n",
    "In this example you'll use tuning to help create a model that requires no prompting or system instructions and outputs succinct text from the classes you provide in the training data.\n",
    "\n",
    "The data contains both input text (the processed posts) and output text (the category, or newsgroup), which you can use to start tuning a model.\n",
    "\n",
    "The Python SDK for tuning supports Pandas dataframes as input, so you don't need any custom data generators or pipelines. Just specify the input and the relevant columns as the `input_key` and `output_key`.\n",
    "\n",
    "When calling `create_tuned_model`, you can specify model tuning hyperparameters too:\n",
    " - `epoch_count`: defines how many times to loop through the data,\n",
    " - `batch_size`: defines how many rows to process in a single step, and\n",
    " - `learning_rate`: defines the scaling factor for updating model weights at each step.\n",
    "\n",
    "You can also choose to omit them and use the defaults. [Learn more](https://developers.google.com/machine-learning/crash-course/linear-regression/hyperparameters) about these parameters and how they work. For this example these parameters were selected by running some tuning jobs and selecting parameters that were both effective and quick."
   ]
  },
  {
   "cell_type": "code",
   "execution_count": 17,
   "id": "9ca93672",
   "metadata": {
    "execution": {
     "iopub.execute_input": "2024-11-14T01:37:04.280885Z",
     "iopub.status.busy": "2024-11-14T01:37:04.280450Z",
     "iopub.status.idle": "2024-11-14T01:37:04.995796Z",
     "shell.execute_reply": "2024-11-14T01:37:04.994563Z"
    },
    "id": "pWOZlspfY8dV",
    "papermill": {
     "duration": 0.736066,
     "end_time": "2024-11-14T01:37:04.999090",
     "exception": false,
     "start_time": "2024-11-14T01:37:04.263024",
     "status": "completed"
    },
    "tags": []
   },
   "outputs": [
    {
     "name": "stdout",
     "output_type": "stream",
     "text": [
      "newsgroup-classifier-50239\n"
     ]
    }
   ],
   "source": [
    "from collections.abc import Iterable\n",
    "import random\n",
    "\n",
    "\n",
    "# Append a random number to the model ID so you can re-run with a higher chance\n",
    "# of creating a unique model ID.\n",
    "model_id = f\"newsgroup-classifier-{random.randint(10000, 99999)}\"\n",
    "\n",
    "# Upload the training data and queue the tuning job.\n",
    "tuning_op = genai.create_tuned_model(\n",
    "    \"models/gemini-1.5-flash-001-tuning\",\n",
    "    training_data=df_train,\n",
    "    input_key=\"Text\",  # the column to use as input\n",
    "    output_key=\"Class Name\",  # the column to use as output\n",
    "    id=model_id,\n",
    "    display_name=\"Newsgroup classification model\",\n",
    "    batch_size=16,\n",
    "    epoch_count=2,\n",
    ")\n",
    "\n",
    "print(model_id)"
   ]
  },
  {
   "cell_type": "markdown",
   "id": "787ce49a",
   "metadata": {
    "id": "NQ3YZ2MBubCY",
    "papermill": {
     "duration": 0.01641,
     "end_time": "2024-11-14T01:37:05.031867",
     "exception": false,
     "start_time": "2024-11-14T01:37:05.015457",
     "status": "completed"
    },
    "tags": []
   },
   "source": [
    "This has created a tuning job that will run in the background. To inspect the progress of the tuning job, run this cell to plot the current status and loss curve. Once the status reaches `ACTIVE`, tuning is complete and the model is ready to use.\n",
    "\n",
    "Tuning jobs are queued, so it may look like no training steps have been taken initially but it will progress. Tuning can take upwards of 20 minutes, depending on factors like your dataset size and how busy the tuning infrastrature is. Why not treat yourself to a nice cup of tea while you wait, or come and say \"Hi!\" to [yours truly](https://discord.com/users/132124213132787712) in the group [Discord](https://discord.com/invite/kaggle).\n",
    "\n",
    "It is safe to stop this cell at any point. It will not stop the tuning job."
   ]
  },
  {
   "cell_type": "code",
   "execution_count": 18,
   "id": "4377e9bb",
   "metadata": {
    "execution": {
     "iopub.execute_input": "2024-11-14T01:37:05.068634Z",
     "iopub.status.busy": "2024-11-14T01:37:05.068194Z",
     "iopub.status.idle": "2024-11-14T01:42:06.715832Z",
     "shell.execute_reply": "2024-11-14T01:42:06.714288Z"
    },
    "id": "c4ef5f13692d",
    "papermill": {
     "duration": 301.669493,
     "end_time": "2024-11-14T01:42:06.719216",
     "exception": false,
     "start_time": "2024-11-14T01:37:05.049723",
     "status": "completed"
    },
    "tags": []
   },
   "outputs": [
    {
     "name": "stdout",
     "output_type": "stream",
     "text": [
      "State.CREATING\n",
      "State.CREATING\n"
     ]
    },
    {
     "name": "stderr",
     "output_type": "stream",
     "text": [
      "/opt/conda/lib/python3.10/site-packages/seaborn/_oldcore.py:1119: FutureWarning: use_inf_as_na option is deprecated and will be removed in a future version. Convert inf values to NaN before operating instead.\n",
      "  with pd.option_context('mode.use_inf_as_na', True):\n",
      "/opt/conda/lib/python3.10/site-packages/seaborn/_oldcore.py:1119: FutureWarning: use_inf_as_na option is deprecated and will be removed in a future version. Convert inf values to NaN before operating instead.\n",
      "  with pd.option_context('mode.use_inf_as_na', True):\n"
     ]
    },
    {
     "name": "stdout",
     "output_type": "stream",
     "text": [
      "State.CREATING\n"
     ]
    },
    {
     "name": "stderr",
     "output_type": "stream",
     "text": [
      "/opt/conda/lib/python3.10/site-packages/seaborn/_oldcore.py:1119: FutureWarning: use_inf_as_na option is deprecated and will be removed in a future version. Convert inf values to NaN before operating instead.\n",
      "  with pd.option_context('mode.use_inf_as_na', True):\n",
      "/opt/conda/lib/python3.10/site-packages/seaborn/_oldcore.py:1119: FutureWarning: use_inf_as_na option is deprecated and will be removed in a future version. Convert inf values to NaN before operating instead.\n",
      "  with pd.option_context('mode.use_inf_as_na', True):\n"
     ]
    },
    {
     "name": "stdout",
     "output_type": "stream",
     "text": [
      "State.CREATING\n"
     ]
    },
    {
     "name": "stderr",
     "output_type": "stream",
     "text": [
      "/opt/conda/lib/python3.10/site-packages/seaborn/_oldcore.py:1119: FutureWarning: use_inf_as_na option is deprecated and will be removed in a future version. Convert inf values to NaN before operating instead.\n",
      "  with pd.option_context('mode.use_inf_as_na', True):\n",
      "/opt/conda/lib/python3.10/site-packages/seaborn/_oldcore.py:1119: FutureWarning: use_inf_as_na option is deprecated and will be removed in a future version. Convert inf values to NaN before operating instead.\n",
      "  with pd.option_context('mode.use_inf_as_na', True):\n"
     ]
    },
    {
     "name": "stdout",
     "output_type": "stream",
     "text": [
      "State.CREATING\n",
      "Done! The model is ACTIVE\n"
     ]
    },
    {
     "data": {
      "image/png": "[encoded data removed]",
      "text/plain": [
       "<Figure size 640x480 with 1 Axes>"
      ]
     },
     "metadata": {},
     "output_type": "display_data"
    }
   ],
   "source": [
    "import time\n",
    "import seaborn as sns\n",
    "\n",
    "\n",
    "while (tuned_model := genai.get_tuned_model(f\"tunedModels/{model_id}\")).state.name != 'ACTIVE':\n",
    "\n",
    "    if tuned_model.tuning_task.snapshots:\n",
    "        # If the tuning task has started, this will draw the loss so far.\n",
    "        snapshots = pd.DataFrame(tuned_model.tuning_task.snapshots)\n",
    "        sns.lineplot(data=snapshots, x=\"step\", y=\"mean_loss\")\n",
    "    \n",
    "    print(tuned_model.state)\n",
    "\n",
    "    time.sleep(60)\n",
    "\n",
    "print(f\"Done! The model is {tuned_model.state.name}\")"
   ]
  },
  {
   "cell_type": "markdown",
   "id": "4e47d541",
   "metadata": {
    "id": "9-qiIdK4u80z",
    "papermill": {
     "duration": 0.018042,
     "end_time": "2024-11-14T01:42:06.756460",
     "exception": false,
     "start_time": "2024-11-14T01:42:06.738418",
     "status": "completed"
    },
    "tags": []
   },
   "source": [
    "## Use the new model\n",
    "\n",
    "Now that you have a tuned model, try it out with custom data. You use the same API as a normal Gemini API interaction, but you specify your new model as the model name, using the `tunedModels/` prefix."
   ]
  },
  {
   "cell_type": "code",
   "execution_count": 19,
   "id": "3f3abc17",
   "metadata": {
    "execution": {
     "iopub.execute_input": "2024-11-14T01:42:06.795519Z",
     "iopub.status.busy": "2024-11-14T01:42:06.794284Z",
     "iopub.status.idle": "2024-11-14T01:42:16.280433Z",
     "shell.execute_reply": "2024-11-14T01:42:16.278990Z"
    },
    "id": "hyO2-MXLvM6a",
    "papermill": {
     "duration": 9.509351,
     "end_time": "2024-11-14T01:42:16.283297",
     "exception": false,
     "start_time": "2024-11-14T01:42:06.773946",
     "status": "completed"
    },
    "tags": []
   },
   "outputs": [
    {
     "name": "stdout",
     "output_type": "stream",
     "text": [
      "sci.space\n"
     ]
    }
   ],
   "source": [
    "your_model = genai.GenerativeModel(f\"tunedModels/{model_id}\")\n",
    "\n",
    "new_text = \"\"\"\n",
    "First-timer looking to get out of here.\n",
    "\n",
    "Hi, I'm writing about my interest in travelling to the outer limits!\n",
    "\n",
    "What kind of craft can I buy? What is easiest to access from this 3rd rock?\n",
    "\n",
    "Let me know how to do that please.\n",
    "\"\"\"\n",
    "\n",
    "response = your_model.generate_content(new_text)\n",
    "print(response.text)"
   ]
  },
  {
   "cell_type": "markdown",
   "id": "469a1c2a",
   "metadata": {
    "id": "xajLek9DySH_",
    "papermill": {
     "duration": 0.017561,
     "end_time": "2024-11-14T01:42:16.318085",
     "exception": false,
     "start_time": "2024-11-14T01:42:16.300524",
     "status": "completed"
    },
    "tags": []
   },
   "source": [
    "### Evaluation\n",
    "\n",
    "You can see that the model outputs labels that correspond to those in the training data, and without any system instructions or prompting, which is already a great improvement. Now see how well it performs on the test set.\n",
    "\n",
    "Note that there is no parallelism in this example; classifying the test sub-set will take a few minutes."
   ]
  },
  {
   "cell_type": "code",
   "execution_count": 20,
   "id": "69f0d262",
   "metadata": {
    "execution": {
     "iopub.execute_input": "2024-11-14T01:42:16.354968Z",
     "iopub.status.busy": "2024-11-14T01:42:16.354536Z",
     "iopub.status.idle": "2024-11-14T01:43:26.896849Z",
     "shell.execute_reply": "2024-11-14T01:43:26.895373Z"
    },
    "id": "6T2Y3ZApvbMw",
    "papermill": {
     "duration": 70.564212,
     "end_time": "2024-11-14T01:43:26.900049",
     "exception": false,
     "start_time": "2024-11-14T01:42:16.335837",
     "status": "completed"
    },
    "tags": []
   },
   "outputs": [
    {
     "data": {
      "application/vnd.jupyter.widget-view+json": {
       "model_id": "2eb49bfa723f4402893237765c736aa4",
       "version_major": 2,
       "version_minor": 0
      },
      "text/plain": [
       "Output()"
      ]
     },
     "metadata": {},
     "output_type": "display_data"
    },
    {
     "name": "stderr",
     "output_type": "stream",
     "text": [
      "/opt/conda/lib/python3.10/site-packages/tqdm/std.py:885: TqdmExperimentalWarning: rich is experimental/alpha\n",
      "  t = cls(total=total, **tqdm_kwargs)\n"
     ]
    },
    {
     "data": {
      "text/html": [
       "<pre style=\"white-space:pre;overflow-x:auto;line-height:normal;font-family:Menlo,'DejaVu Sans Mono',consolas,'Courier New',monospace\"></pre>\n"
      ],
      "text/plain": []
     },
     "metadata": {},
     "output_type": "display_data"
    },
    {
     "data": {
      "text/html": [
       "<pre style=\"white-space:pre;overflow-x:auto;line-height:normal;font-family:Menlo,'DejaVu Sans Mono',consolas,'Courier New',monospace\">\n",
       "</pre>\n"
      ],
      "text/plain": [
       "\n"
      ]
     },
     "metadata": {},
     "output_type": "display_data"
    },
    {
     "name": "stdout",
     "output_type": "stream",
     "text": [
      "Accuracy: 93.75%\n"
     ]
    }
   ],
   "source": [
    "def classify_text(text: str) -> str:\n",
    "    \"\"\"Classify the provided text into a known newsgroup.\"\"\"\n",
    "    response = your_model.generate_content(text, request_options=retry_policy)\n",
    "    rc = response.candidates[0]\n",
    "\n",
    "    # Any errors, filters, recitation, etc we can mark as a general error\n",
    "    if rc.finish_reason.name != \"STOP\":\n",
    "        return \"(error)\"\n",
    "    else:\n",
    "        return rc.content.parts[0].text\n",
    "\n",
    "\n",
    "# The sampling here is just to minimise your quota usage. If you can, you should\n",
    "# evaluate the whole test set with `df_model_eval = df_test.copy()`.\n",
    "df_model_eval = sample_data(df_test, 4, '.*')\n",
    "\n",
    "\n",
    "df_model_eval[\"Prediction\"] = df_model_eval[\"Text\"].progress_apply(classify_text)\n",
    "\n",
    "accuracy = (df_model_eval[\"Class Name\"] == df_model_eval[\"Prediction\"]).sum() / len(df_model_eval)\n",
    "print(f\"Accuracy: {accuracy:.2%}\")"
   ]
  },
  {
   "cell_type": "markdown",
   "id": "8804c010",
   "metadata": {
    "papermill": {
     "duration": 0.024321,
     "end_time": "2024-11-14T01:43:26.947498",
     "exception": false,
     "start_time": "2024-11-14T01:43:26.923177",
     "status": "completed"
    },
    "tags": []
   },
   "source": [
    "## Compare token usage\n",
    "\n",
    "AI Studio and the Gemini API provide model tuning at no cost, however normal limits and charges apply for *use* of a tuned model.\n",
    "\n",
    "The size of the input prompt and other generation config like system instructions, as well as the number of generated output tokens, all contribute to the overall cost of a request."
   ]
  },
  {
   "cell_type": "code",
   "execution_count": 21,
   "id": "8717a351",
   "metadata": {
    "execution": {
     "iopub.execute_input": "2024-11-14T01:43:29.704501Z",
     "iopub.status.busy": "2024-11-14T01:43:29.704093Z",
     "iopub.status.idle": "2024-11-14T01:43:29.880052Z",
     "shell.execute_reply": "2024-11-14T01:43:29.878525Z"
    },
    "papermill": {
     "duration": 2.912861,
     "end_time": "2024-11-14T01:43:29.883989",
     "exception": false,
     "start_time": "2024-11-14T01:43:26.971128",
     "status": "completed"
    },
    "tags": []
   },
   "outputs": [
    {
     "name": "stdout",
     "output_type": "stream",
     "text": [
      "System instructed baseline model: 171 (input)\n",
      "Tuned model: 135 (input)\n",
      "Token savings: 26.67%\n"
     ]
    }
   ],
   "source": [
    "# Calculate the *input* cost of the baseline model with system instructions.\n",
    "sysint_tokens = instructed_model.count_tokens(sample_row).total_tokens\n",
    "print(f'System instructed baseline model: {sysint_tokens} (input)')\n",
    "\n",
    "# Calculate the input cost of the tuned model.\n",
    "tuned_tokens = your_model.count_tokens(sample_row).total_tokens\n",
    "print(f'Tuned model: {tuned_tokens} (input)')\n",
    "\n",
    "savings = (sysint_tokens - tuned_tokens) / tuned_tokens\n",
    "print(f'Token savings: {savings:.2%}')  # Note that this is only n=1."
   ]
  },
  {
   "cell_type": "markdown",
   "id": "cad57ace",
   "metadata": {
    "papermill": {
     "duration": 0.018044,
     "end_time": "2024-11-14T01:43:29.920986",
     "exception": false,
     "start_time": "2024-11-14T01:43:29.902942",
     "status": "completed"
    },
    "tags": []
   },
   "source": [
    "The earlier verbose model also produced more output tokens than needed for this task."
   ]
  },
  {
   "cell_type": "code",
   "execution_count": 22,
   "id": "c4306811",
   "metadata": {
    "execution": {
     "iopub.execute_input": "2024-11-14T01:43:29.959471Z",
     "iopub.status.busy": "2024-11-14T01:43:29.959011Z",
     "iopub.status.idle": "2024-11-14T01:43:30.794439Z",
     "shell.execute_reply": "2024-11-14T01:43:30.792860Z"
    },
    "papermill": {
     "duration": 0.858312,
     "end_time": "2024-11-14T01:43:30.797398",
     "exception": false,
     "start_time": "2024-11-14T01:43:29.939086",
     "status": "completed"
    },
    "tags": []
   },
   "outputs": [
    {
     "name": "stdout",
     "output_type": "stream",
     "text": [
      "Baseline (verbose) output tokens: 70\n",
      "Tuned output tokens: 3\n"
     ]
    }
   ],
   "source": [
    "baseline_token_output = baseline_response.usage_metadata.candidates_token_count\n",
    "print('Baseline (verbose) output tokens:', baseline_token_output)\n",
    "\n",
    "tuned_model_output = your_model.generate_content(sample_row)\n",
    "tuned_tokens_output = tuned_model_output.usage_metadata.candidates_token_count\n",
    "print('Tuned output tokens:', tuned_tokens_output)"
   ]
  },
  {
   "cell_type": "markdown",
   "id": "e3fe6b51",
   "metadata": {
    "id": "6c1204a5d0ab",
    "papermill": {
     "duration": 0.019885,
     "end_time": "2024-11-14T01:43:30.835808",
     "exception": false,
     "start_time": "2024-11-14T01:43:30.815923",
     "status": "completed"
    },
    "tags": []
   },
   "source": [
    "## Next steps\n",
    "\n",
    "Now that you have tuned a classification model, try some other tasks, like tuning a model to respond with a specific tone or style using hand-written examples (or even generated examples!). Kaggle hosts [a number of datasets](https://www.kaggle.com/datasets) you can try out.\n",
    "\n",
    "Learn about [when supervised fine-tuning is most effective](https://cloud.google.com/blog/products/ai-machine-learning/supervised-fine-tuning-for-gemini-llm).\n",
    "\n",
    "And check out the [fine-tuning tutorial](https://ai.google.dev/gemini-api/docs/model-tuning/tutorial?hl=en&lang=python) for another example that shows a tuned model extending beyond the training data to new, unseen inputs."
   ]
  }
 ],
 "metadata": {
  "colab": {
   "name": "day-4-fine-tuning-a-custom-model.ipynb",
   "toc_visible": true
  },
  "kaggle": {
   "accelerator": "none",
   "dataSources": [],
   "dockerImageVersionId": 30786,
   "isGpuEnabled": false,
   "isInternetEnabled": true,
   "language": "python",
   "sourceType": "notebook"
  },
  "kernelspec": {
   "display_name": "Python 3",
   "language": "python",
   "name": "python3"
  },
  "language_info": {
   "codemirror_mode": {
    "name": "ipython",
    "version": 3
   },
   "file_extension": ".py",
   "mimetype": "text/x-python",
   "name": "python",
   "nbconvert_exporter": "python",
   "pygments_lexer": "ipython3",
   "version": "3.10.14"
  },
  "papermill": {
   "default_parameters": {},
   "duration": 522.473677,
   "end_time": "2024-11-14T01:43:31.880245",
   "environment_variables": {},
   "exception": null,
   "input_path": "__notebook__.ipynb",
   "output_path": "__notebook__.ipynb",
   "parameters": {},
   "start_time": "2024-11-14T01:34:49.406568",
   "version": "2.6.0"
  },
  "widgets": {
   "application/vnd.jupyter.widget-state+json": {
    "state": {
     "2aa8b72981054873adaacf2c3f50224b": {
      "model_module": "@jupyter-widgets/output",
      "model_module_version": "1.0.0",
      "model_name": "OutputModel",
      "state": {
       "_dom_classes": [],
       "_model_module": "@jupyter-widgets/output",
       "_model_module_version": "1.0.0",
       "_model_name": "OutputModel",
       "_view_count": null,
       "_view_module": "@jupyter-widgets/output",
       "_view_module_version": "1.0.0",
       "_view_name": "OutputView",
       "layout": "IPY_MODEL_c56c416b70f841f48e9659888532743c",
       "msg_id": "",
       "outputs": [
        {
         "data": {
          "text/html": "<pre style=\"white-space:pre;overflow-x:auto;line-height:normal;font-family:Menlo,'DejaVu Sans Mono',consolas,'Courier New',monospace\"><span style=\"color: #800080; text-decoration-color: #800080\"> 100%</span> <span style=\"color: #729c1f; text-decoration-color: #729c1f\">━━━━━━━━━━━━━━━━━━━━━━━━━━━━━━━━━━━━━━━━━━━━━━━━━━━━━━━━━━━━━━━━━━━━━━━</span> <span style=\"color: #008000; text-decoration-color: #008000\">16/16 </span> [ <span style=\"color: #808000; text-decoration-color: #808000\">0:00:53</span> &lt; <span style=\"color: #008080; text-decoration-color: #008080\">0:00:00</span> , <span style=\"color: #800000; text-decoration-color: #800000\">3 it/s</span> ]\n</pre>\n",
          "text/plain": "\u001b[35m 100%\u001b[0m \u001b[38;2;114;156;31m━━━━━━━━━━━━━━━━━━━━━━━━━━━━━━━━━━━━━━━━━━━━━━━━━━━━━━━━━━━━━━━━━━━━━━━\u001b[0m \u001b[32m16/16 \u001b[0m [ \u001b[33m0:00:53\u001b[0m < \u001b[36m0:00:00\u001b[0m , \u001b[31m3 it/s\u001b[0m ]\n"
         },
         "metadata": {},
         "output_type": "display_data"
        }
       ]
      }
     },
     "2eb49bfa723f4402893237765c736aa4": {
      "model_module": "@jupyter-widgets/output",
      "model_module_version": "1.0.0",
      "model_name": "OutputModel",
      "state": {
       "_dom_classes": [],
       "_model_module": "@jupyter-widgets/output",
       "_model_module_version": "1.0.0",
       "_model_name": "OutputModel",
       "_view_count": null,
       "_view_module": "@jupyter-widgets/output",
       "_view_module_version": "1.0.0",
       "_view_name": "OutputView",
       "layout": "IPY_MODEL_81bd34196ce449d5a172394887e3ced1",
       "msg_id": "",
       "outputs": [
        {
         "data": {
          "text/html": "<pre style=\"white-space:pre;overflow-x:auto;line-height:normal;font-family:Menlo,'DejaVu Sans Mono',consolas,'Courier New',monospace\"><span style=\"color: #800080; text-decoration-color: #800080\"> 100%</span> <span style=\"color: #729c1f; text-decoration-color: #729c1f\">━━━━━━━━━━━━━━━━━━━━━━━━━━━━━━━━━━━━━━━━━━━━━━━━━━━━━━━━━━━━━━━━━━━━━━━</span> <span style=\"color: #008000; text-decoration-color: #008000\">32/32 </span> [ <span style=\"color: #808000; text-decoration-color: #808000\">0:01:09</span> &lt; <span style=\"color: #008080; text-decoration-color: #008080\">0:00:00</span> , <span style=\"color: #800000; text-decoration-color: #800000\">1 it/s</span> ]\n</pre>\n",
          "text/plain": "\u001b[35m 100%\u001b[0m \u001b[38;2;114;156;31m━━━━━━━━━━━━━━━━━━━━━━━━━━━━━━━━━━━━━━━━━━━━━━━━━━━━━━━━━━━━━━━━━━━━━━━\u001b[0m \u001b[32m32/32 \u001b[0m [ \u001b[33m0:01:09\u001b[0m < \u001b[36m0:00:00\u001b[0m , \u001b[31m1 it/s\u001b[0m ]\n"
         },
         "metadata": {},
         "output_type": "display_data"
        }
       ]
      }
     },
     "81bd34196ce449d5a172394887e3ced1": {
      "model_module": "@jupyter-widgets/base",
      "model_module_version": "1.2.0",
      "model_name": "LayoutModel",
      "state": {
       "_model_module": "@jupyter-widgets/base",
       "_model_module_version": "1.2.0",
       "_model_name": "LayoutModel",
       "_view_count": null,
       "_view_module": "@jupyter-widgets/base",
       "_view_module_version": "1.2.0",
       "_view_name": "LayoutView",
       "align_content": null,
       "align_items": null,
       "align_self": null,
       "border": null,
       "bottom": null,
       "display": null,
       "flex": null,
       "flex_flow": null,
       "grid_area": null,
       "grid_auto_columns": null,
       "grid_auto_flow": null,
       "grid_auto_rows": null,
       "grid_column": null,
       "grid_gap": null,
       "grid_row": null,
       "grid_template_areas": null,
       "grid_template_columns": null,
       "grid_template_rows": null,
       "height": null,
       "justify_content": null,
       "justify_items": null,
       "left": null,
       "margin": null,
       "max_height": null,
       "max_width": null,
       "min_height": null,
       "min_width": null,
       "object_fit": null,
       "object_position": null,
       "order": null,
       "overflow": null,
       "overflow_x": null,
       "overflow_y": null,
       "padding": null,
       "right": null,
       "top": null,
       "visibility": null,
       "width": null
      }
     },
     "c56c416b70f841f48e9659888532743c": {
      "model_module": "@jupyter-widgets/base",
      "model_module_version": "1.2.0",
      "model_name": "LayoutModel",
      "state": {
       "_model_module": "@jupyter-widgets/base",
       "_model_module_version": "1.2.0",
       "_model_name": "LayoutModel",
       "_view_count": null,
       "_view_module": "@jupyter-widgets/base",
       "_view_module_version": "1.2.0",
       "_view_name": "LayoutView",
       "align_content": null,
       "align_items": null,
       "align_self": null,
       "border": null,
       "bottom": null,
       "display": null,
       "flex": null,
       "flex_flow": null,
       "grid_area": null,
       "grid_auto_columns": null,
       "grid_auto_flow": null,
       "grid_auto_rows": null,
       "grid_column": null,
       "grid_gap": null,
       "grid_row": null,
       "grid_template_areas": null,
       "grid_template_columns": null,
       "grid_template_rows": null,
       "height": null,
       "justify_content": null,
       "justify_items": null,
       "left": null,
       "margin": null,
       "max_height": null,
       "max_width": null,
       "min_height": null,
       "min_width": null,
       "object_fit": null,
       "object_position": null,
       "order": null,
       "overflow": null,
       "overflow_x": null,
       "overflow_y": null,
       "padding": null,
       "right": null,
       "top": null,
       "visibility": null,
       "width": null
      }
     }
    },
    "version_major": 2,
    "version_minor": 0
   }
  }
 },
 "nbformat": 4,
 "nbformat_minor": 5
}
